{
  "nbformat": 4,
  "nbformat_minor": 0,
  "metadata": {
    "accelerator": "GPU",
    "colab": {
      "name": "GirlsGoneWireless_r1.ipynb",
      "provenance": [],
      "collapsed_sections": [],
      "toc_visible": true,
      "include_colab_link": true
    },
    "kernelspec": {
      "display_name": "Python 3",
      "name": "python3"
    }
  },
  "cells": [
    {
      "cell_type": "markdown",
      "metadata": {
        "id": "view-in-github",
        "colab_type": "text"
      },
      "source": [
        "<a href=\"https://colab.research.google.com/github/eldapere8/Datathons/blob/main/GirlsGoneWireless_r1.ipynb\" target=\"_parent\"><img src=\"https://colab.research.google.com/assets/colab-badge.svg\" alt=\"Open In Colab\"/></a>"
      ]
    },
    {
      "cell_type": "markdown",
      "metadata": {
        "id": "t1jBkpjDT3NM"
      },
      "source": [
        "# WIDS Datathon 2021: Predicting Diabetes \n",
        "By *GirlsGoneWireless*: Ana Parra Vera   |   Elda Pere\n"
      ]
    },
    {
      "cell_type": "markdown",
      "metadata": {
        "id": "h2yibCb6Ew3U"
      },
      "source": [
        "## ✏️ Pre-processing"
      ]
    },
    {
      "cell_type": "markdown",
      "metadata": {
        "id": "7jpwSYoNFBi4"
      },
      "source": [
        "### Import Libraries"
      ]
    },
    {
      "cell_type": "code",
      "metadata": {
        "colab": {
          "base_uri": "https://localhost:8080/"
        },
        "id": "T2mLfzxfhRxe",
        "outputId": "1276a89f-e94a-4256-c2e8-15f582bbda85"
      },
      "source": [
        "pip install octopus-ml"
      ],
      "execution_count": null,
      "outputs": [
        {
          "output_type": "stream",
          "text": [
            "Collecting octopus-ml\n",
            "  Downloading https://files.pythonhosted.org/packages/31/76/0691d1037cb5a54ea8c0bd4112c21fd177116084b29555ff810228a39fd6/octopus_ml-0.1.6-py2.py3-none-any.whl\n",
            "Requirement already satisfied: seaborn in /usr/local/lib/python3.7/dist-packages (from octopus-ml) (0.11.1)\n",
            "Requirement already satisfied: pandas in /usr/local/lib/python3.7/dist-packages (from octopus-ml) (1.1.5)\n",
            "Requirement already satisfied: lightgbm in /usr/local/lib/python3.7/dist-packages (from octopus-ml) (2.2.3)\n",
            "Requirement already satisfied: tqdm in /usr/local/lib/python3.7/dist-packages (from octopus-ml) (4.41.1)\n",
            "Requirement already satisfied: numpy in /usr/local/lib/python3.7/dist-packages (from octopus-ml) (1.19.5)\n",
            "Requirement already satisfied: scipy>=1.0 in /usr/local/lib/python3.7/dist-packages (from seaborn->octopus-ml) (1.4.1)\n",
            "Requirement already satisfied: matplotlib>=2.2 in /usr/local/lib/python3.7/dist-packages (from seaborn->octopus-ml) (3.2.2)\n",
            "Requirement already satisfied: pytz>=2017.2 in /usr/local/lib/python3.7/dist-packages (from pandas->octopus-ml) (2018.9)\n",
            "Requirement already satisfied: python-dateutil>=2.7.3 in /usr/local/lib/python3.7/dist-packages (from pandas->octopus-ml) (2.8.1)\n",
            "Requirement already satisfied: scikit-learn in /usr/local/lib/python3.7/dist-packages (from lightgbm->octopus-ml) (0.22.2.post1)\n",
            "Requirement already satisfied: kiwisolver>=1.0.1 in /usr/local/lib/python3.7/dist-packages (from matplotlib>=2.2->seaborn->octopus-ml) (1.3.1)\n",
            "Requirement already satisfied: cycler>=0.10 in /usr/local/lib/python3.7/dist-packages (from matplotlib>=2.2->seaborn->octopus-ml) (0.10.0)\n",
            "Requirement already satisfied: pyparsing!=2.0.4,!=2.1.2,!=2.1.6,>=2.0.1 in /usr/local/lib/python3.7/dist-packages (from matplotlib>=2.2->seaborn->octopus-ml) (2.4.7)\n",
            "Requirement already satisfied: six>=1.5 in /usr/local/lib/python3.7/dist-packages (from python-dateutil>=2.7.3->pandas->octopus-ml) (1.15.0)\n",
            "Requirement already satisfied: joblib>=0.11 in /usr/local/lib/python3.7/dist-packages (from scikit-learn->lightgbm->octopus-ml) (1.0.1)\n",
            "Installing collected packages: octopus-ml\n",
            "Successfully installed octopus-ml-0.1.6\n"
          ],
          "name": "stdout"
        }
      ]
    },
    {
      "cell_type": "code",
      "metadata": {
        "id": "T52YEBZGPYYZ"
      },
      "source": [
        "import pandas as pd\n",
        "import numpy as np\n",
        "from google.colab import (drive, files)\n",
        "from datetime import datetime, timedelta\n",
        "import os\n",
        "import matplotlib.pyplot as plt\n",
        "import seaborn as sns\n",
        "import octopus_ml as oc\n",
        "\n",
        "from sklearn.model_selection import train_test_split\n",
        "from sklearn.pipeline import Pipeline\n",
        "from sklearn.compose import ColumnTransformer\n",
        "from sklearn.preprocessing import StandardScaler, LabelEncoder, OneHotEncoder\n",
        "from sklearn.feature_extraction.text import CountVectorizer\n",
        "from sklearn.experimental import enable_iterative_imputer\n",
        "from sklearn.impute import IterativeImputer, SimpleImputer\n",
        "from sklearn.linear_model import LogisticRegression, LogisticRegressionCV\n",
        "from sklearn.metrics import classification_report, roc_auc_score, roc_curve\n",
        "\n",
        "from sklearn.model_selection import cross_val_score\n",
        "from sklearn.model_selection import RepeatedStratifiedKFold\n",
        "from sklearn.decomposition import PCA\n",
        "from sklearn.linear_model import LogisticRegression\n",
        "from matplotlib import pyplot"
      ],
      "execution_count": null,
      "outputs": []
    },
    {
      "cell_type": "code",
      "metadata": {
        "colab": {
          "base_uri": "https://localhost:8080/"
        },
        "id": "7yhTLQhxPadf",
        "outputId": "23f16eca-4971-4cec-8307-600385ca27ae"
      },
      "source": [
        "# connect to the drive\n",
        "drive.mount('/content/gdrive', force_remount=True)\n",
        "path = \"/content/gdrive\"\n",
        "os.chdir(path)"
      ],
      "execution_count": null,
      "outputs": [
        {
          "output_type": "stream",
          "text": [
            "Mounted at /content/gdrive\n"
          ],
          "name": "stdout"
        }
      ]
    },
    {
      "cell_type": "code",
      "metadata": {
        "colab": {
          "base_uri": "https://localhost:8080/"
        },
        "id": "ISzNS2xFAxlb",
        "outputId": "e475a3d0-7db2-4d19-a82f-3c9978b4c00d"
      },
      "source": [
        "# ana\n",
        "% ls MyDrive/Data\\ Science/WIDS\\ Datathon/DATA"
      ],
      "execution_count": null,
      "outputs": [
        {
          "output_type": "stream",
          "text": [
            "ls: cannot access 'MyDrive/Data Science/WIDS Datathon/DATA': No such file or directory\n"
          ],
          "name": "stdout"
        }
      ]
    },
    {
      "cell_type": "code",
      "metadata": {
        "colab": {
          "base_uri": "https://localhost:8080/"
        },
        "id": "wf9HA1cIPseO",
        "outputId": "d1c1098b-dbb5-4d4a-ad95-0c793c996839"
      },
      "source": [
        "# elda\n",
        "% ls MyDrive/Projects/WIDS\\ Datathon"
      ],
      "execution_count": null,
      "outputs": [
        {
          "output_type": "stream",
          "text": [
            " \u001b[0m\u001b[01;34mDATA\u001b[0m/\n",
            " DataDictionaryWiDS2021.gsheet\n",
            " GirlsGoneWireless_r1.ipynb\n",
            " GirlsGoneWireless_v4.ipynb\n",
            " GirlsGoneWireless_v5.ipynb\n",
            " GirlsGoneWireless_v6.ipynb\n",
            " GirlsGoneWireless_v7.ipynb\n",
            " GirlsGoneWireless_v8.ipynb\n",
            " GirlsGoneWireless_v9.ipynb\n",
            " Notes.gdoc\n",
            "\u001b[01;34m'Phase II'\u001b[0m/\n",
            "\u001b[01;34m'Prev Notebooks'\u001b[0m/\n",
            " Research.gdoc\n",
            " TrainTestSplitAndCrossValidation.ipynb\n",
            "'Webinar Notes.gdoc'\n",
            " wids2021-initial-eda-and-tuned-lgbm-0-86269.ipynb\n",
            "'WIDs changes.gsheet'\n",
            " wids_eda.html\n",
            " WIDS_EDA.ipynb\n"
          ],
          "name": "stdout"
        }
      ]
    },
    {
      "cell_type": "code",
      "metadata": {
        "id": "0UxZCMw6Pjuo"
      },
      "source": [
        "## choose appropriate path and uncomment below\n",
        "\n",
        "filepath = 'MyDrive/Projects/WIDS Datathon/DATA/'\n",
        "# filepath = 'MyDrive/Data Science/WIDS Datathon/DATA/'"
      ],
      "execution_count": null,
      "outputs": []
    },
    {
      "cell_type": "markdown",
      "metadata": {
        "id": "1M6upY_2g5i4"
      },
      "source": [
        "### Read the Data"
      ]
    },
    {
      "cell_type": "code",
      "metadata": {
        "id": "pP89_cf9PjsE"
      },
      "source": [
        "wids_train_df = pd.read_csv(filepath+'TrainingWiDS2021.csv',index_col=0)"
      ],
      "execution_count": null,
      "outputs": []
    },
    {
      "cell_type": "code",
      "metadata": {
        "id": "F65PNAkDUspO"
      },
      "source": [
        "wids_test_df = pd.read_csv(filepath+'UnlabeledWiDS2021.csv',index_col=0)"
      ],
      "execution_count": null,
      "outputs": []
    },
    {
      "cell_type": "markdown",
      "metadata": {
        "id": "2kVIXIApT2AH"
      },
      "source": [
        "### Data Preview"
      ]
    },
    {
      "cell_type": "code",
      "metadata": {
        "colab": {
          "base_uri": "https://localhost:8080/",
          "height": 231
        },
        "id": "Yok4DWWHWFeH",
        "outputId": "14e2faad-30de-4255-957e-360bb08f15d4"
      },
      "source": [
        "# checking the columns are the same in the train and test dfs\n",
        "test_cols = wids_test_df.columns.tolist()\n",
        "train_cols = wids_train_df.columns.tolist()\n",
        "train_cols.remove('diabetes_mellitus')\n",
        "\n",
        "# sanity check\n",
        "train_cols == test_cols"
      ],
      "execution_count": null,
      "outputs": [
        {
          "output_type": "error",
          "ename": "NameError",
          "evalue": "ignored",
          "traceback": [
            "\u001b[0;31m---------------------------------------------------------------------------\u001b[0m",
            "\u001b[0;31mNameError\u001b[0m                                 Traceback (most recent call last)",
            "\u001b[0;32m<ipython-input-15-0435d86f19b3>\u001b[0m in \u001b[0;36m<module>\u001b[0;34m()\u001b[0m\n\u001b[1;32m      1\u001b[0m \u001b[0;31m# checking the columns are the same in the train and test dfs\u001b[0m\u001b[0;34m\u001b[0m\u001b[0;34m\u001b[0m\u001b[0;34m\u001b[0m\u001b[0m\n\u001b[0;32m----> 2\u001b[0;31m \u001b[0mtest_cols\u001b[0m \u001b[0;34m=\u001b[0m \u001b[0mwids_test_df\u001b[0m\u001b[0;34m.\u001b[0m\u001b[0mcolumns\u001b[0m\u001b[0;34m.\u001b[0m\u001b[0mtolist\u001b[0m\u001b[0;34m(\u001b[0m\u001b[0;34m)\u001b[0m\u001b[0;34m\u001b[0m\u001b[0;34m\u001b[0m\u001b[0m\n\u001b[0m\u001b[1;32m      3\u001b[0m \u001b[0mtrain_cols\u001b[0m \u001b[0;34m=\u001b[0m \u001b[0mwids_train_df\u001b[0m\u001b[0;34m.\u001b[0m\u001b[0mcolumns\u001b[0m\u001b[0;34m.\u001b[0m\u001b[0mtolist\u001b[0m\u001b[0;34m(\u001b[0m\u001b[0;34m)\u001b[0m\u001b[0;34m\u001b[0m\u001b[0;34m\u001b[0m\u001b[0m\n\u001b[1;32m      4\u001b[0m \u001b[0mtrain_cols\u001b[0m\u001b[0;34m.\u001b[0m\u001b[0mremove\u001b[0m\u001b[0;34m(\u001b[0m\u001b[0;34m'diabetes_mellitus'\u001b[0m\u001b[0;34m)\u001b[0m\u001b[0;34m\u001b[0m\u001b[0;34m\u001b[0m\u001b[0m\n\u001b[1;32m      5\u001b[0m \u001b[0;34m\u001b[0m\u001b[0m\n",
            "\u001b[0;31mNameError\u001b[0m: name 'wids_test_df' is not defined"
          ]
        }
      ]
    },
    {
      "cell_type": "code",
      "metadata": {
        "colab": {
          "base_uri": "https://localhost:8080/"
        },
        "id": "xsdRcMHpQljC",
        "outputId": "90ae437d-367e-4e51-92f8-0353ed512a45"
      },
      "source": [
        "# we should see 130,157 encounters represented here\n",
        "wids_train_df.shape"
      ],
      "execution_count": null,
      "outputs": [
        {
          "output_type": "execute_result",
          "data": {
            "text/plain": [
              "(130157, 180)"
            ]
          },
          "metadata": {
            "tags": []
          },
          "execution_count": 16
        }
      ]
    },
    {
      "cell_type": "code",
      "metadata": {
        "colab": {
          "base_uri": "https://localhost:8080/",
          "height": 321
        },
        "id": "CcDlrHWqUKRP",
        "outputId": "ffed8e25-48e2-40a0-e194-a16f773550f0"
      },
      "source": [
        "# preview of the data\n",
        "wids_train_df.head()"
      ],
      "execution_count": null,
      "outputs": [
        {
          "output_type": "execute_result",
          "data": {
            "text/html": [
              "<div>\n",
              "<style scoped>\n",
              "    .dataframe tbody tr th:only-of-type {\n",
              "        vertical-align: middle;\n",
              "    }\n",
              "\n",
              "    .dataframe tbody tr th {\n",
              "        vertical-align: top;\n",
              "    }\n",
              "\n",
              "    .dataframe thead th {\n",
              "        text-align: right;\n",
              "    }\n",
              "</style>\n",
              "<table border=\"1\" class=\"dataframe\">\n",
              "  <thead>\n",
              "    <tr style=\"text-align: right;\">\n",
              "      <th></th>\n",
              "      <th>encounter_id</th>\n",
              "      <th>hospital_id</th>\n",
              "      <th>age</th>\n",
              "      <th>bmi</th>\n",
              "      <th>elective_surgery</th>\n",
              "      <th>ethnicity</th>\n",
              "      <th>gender</th>\n",
              "      <th>height</th>\n",
              "      <th>hospital_admit_source</th>\n",
              "      <th>icu_admit_source</th>\n",
              "      <th>icu_id</th>\n",
              "      <th>icu_stay_type</th>\n",
              "      <th>icu_type</th>\n",
              "      <th>pre_icu_los_days</th>\n",
              "      <th>readmission_status</th>\n",
              "      <th>weight</th>\n",
              "      <th>albumin_apache</th>\n",
              "      <th>apache_2_diagnosis</th>\n",
              "      <th>apache_3j_diagnosis</th>\n",
              "      <th>apache_post_operative</th>\n",
              "      <th>arf_apache</th>\n",
              "      <th>bilirubin_apache</th>\n",
              "      <th>bun_apache</th>\n",
              "      <th>creatinine_apache</th>\n",
              "      <th>fio2_apache</th>\n",
              "      <th>gcs_eyes_apache</th>\n",
              "      <th>gcs_motor_apache</th>\n",
              "      <th>gcs_unable_apache</th>\n",
              "      <th>gcs_verbal_apache</th>\n",
              "      <th>glucose_apache</th>\n",
              "      <th>heart_rate_apache</th>\n",
              "      <th>hematocrit_apache</th>\n",
              "      <th>intubated_apache</th>\n",
              "      <th>map_apache</th>\n",
              "      <th>paco2_apache</th>\n",
              "      <th>paco2_for_ph_apache</th>\n",
              "      <th>pao2_apache</th>\n",
              "      <th>ph_apache</th>\n",
              "      <th>resprate_apache</th>\n",
              "      <th>sodium_apache</th>\n",
              "      <th>...</th>\n",
              "      <th>h1_hemaglobin_max</th>\n",
              "      <th>h1_hemaglobin_min</th>\n",
              "      <th>h1_hematocrit_max</th>\n",
              "      <th>h1_hematocrit_min</th>\n",
              "      <th>h1_inr_max</th>\n",
              "      <th>h1_inr_min</th>\n",
              "      <th>h1_lactate_max</th>\n",
              "      <th>h1_lactate_min</th>\n",
              "      <th>h1_platelets_max</th>\n",
              "      <th>h1_platelets_min</th>\n",
              "      <th>h1_potassium_max</th>\n",
              "      <th>h1_potassium_min</th>\n",
              "      <th>h1_sodium_max</th>\n",
              "      <th>h1_sodium_min</th>\n",
              "      <th>h1_wbc_max</th>\n",
              "      <th>h1_wbc_min</th>\n",
              "      <th>d1_arterial_pco2_max</th>\n",
              "      <th>d1_arterial_pco2_min</th>\n",
              "      <th>d1_arterial_ph_max</th>\n",
              "      <th>d1_arterial_ph_min</th>\n",
              "      <th>d1_arterial_po2_max</th>\n",
              "      <th>d1_arterial_po2_min</th>\n",
              "      <th>d1_pao2fio2ratio_max</th>\n",
              "      <th>d1_pao2fio2ratio_min</th>\n",
              "      <th>h1_arterial_pco2_max</th>\n",
              "      <th>h1_arterial_pco2_min</th>\n",
              "      <th>h1_arterial_ph_max</th>\n",
              "      <th>h1_arterial_ph_min</th>\n",
              "      <th>h1_arterial_po2_max</th>\n",
              "      <th>h1_arterial_po2_min</th>\n",
              "      <th>h1_pao2fio2ratio_max</th>\n",
              "      <th>h1_pao2fio2ratio_min</th>\n",
              "      <th>aids</th>\n",
              "      <th>cirrhosis</th>\n",
              "      <th>hepatic_failure</th>\n",
              "      <th>immunosuppression</th>\n",
              "      <th>leukemia</th>\n",
              "      <th>lymphoma</th>\n",
              "      <th>solid_tumor_with_metastasis</th>\n",
              "      <th>diabetes_mellitus</th>\n",
              "    </tr>\n",
              "  </thead>\n",
              "  <tbody>\n",
              "    <tr>\n",
              "      <th>1</th>\n",
              "      <td>214826</td>\n",
              "      <td>118</td>\n",
              "      <td>68.0</td>\n",
              "      <td>22.732803</td>\n",
              "      <td>0</td>\n",
              "      <td>Caucasian</td>\n",
              "      <td>M</td>\n",
              "      <td>180.3</td>\n",
              "      <td>Floor</td>\n",
              "      <td>Floor</td>\n",
              "      <td>92</td>\n",
              "      <td>admit</td>\n",
              "      <td>CTICU</td>\n",
              "      <td>0.541667</td>\n",
              "      <td>0</td>\n",
              "      <td>73.9</td>\n",
              "      <td>2.3</td>\n",
              "      <td>113.0</td>\n",
              "      <td>502.01</td>\n",
              "      <td>0</td>\n",
              "      <td>0</td>\n",
              "      <td>0.4</td>\n",
              "      <td>31.0</td>\n",
              "      <td>2.51</td>\n",
              "      <td>NaN</td>\n",
              "      <td>3.0</td>\n",
              "      <td>6.0</td>\n",
              "      <td>0.0</td>\n",
              "      <td>4.0</td>\n",
              "      <td>168.0</td>\n",
              "      <td>118.0</td>\n",
              "      <td>27.4</td>\n",
              "      <td>0</td>\n",
              "      <td>40.0</td>\n",
              "      <td>NaN</td>\n",
              "      <td>NaN</td>\n",
              "      <td>NaN</td>\n",
              "      <td>NaN</td>\n",
              "      <td>36.0</td>\n",
              "      <td>134.0</td>\n",
              "      <td>...</td>\n",
              "      <td>NaN</td>\n",
              "      <td>NaN</td>\n",
              "      <td>NaN</td>\n",
              "      <td>NaN</td>\n",
              "      <td>NaN</td>\n",
              "      <td>NaN</td>\n",
              "      <td>NaN</td>\n",
              "      <td>NaN</td>\n",
              "      <td>NaN</td>\n",
              "      <td>NaN</td>\n",
              "      <td>NaN</td>\n",
              "      <td>NaN</td>\n",
              "      <td>NaN</td>\n",
              "      <td>NaN</td>\n",
              "      <td>NaN</td>\n",
              "      <td>NaN</td>\n",
              "      <td>NaN</td>\n",
              "      <td>NaN</td>\n",
              "      <td>NaN</td>\n",
              "      <td>NaN</td>\n",
              "      <td>NaN</td>\n",
              "      <td>NaN</td>\n",
              "      <td>NaN</td>\n",
              "      <td>NaN</td>\n",
              "      <td>NaN</td>\n",
              "      <td>NaN</td>\n",
              "      <td>NaN</td>\n",
              "      <td>NaN</td>\n",
              "      <td>NaN</td>\n",
              "      <td>NaN</td>\n",
              "      <td>NaN</td>\n",
              "      <td>NaN</td>\n",
              "      <td>0</td>\n",
              "      <td>0</td>\n",
              "      <td>0</td>\n",
              "      <td>0</td>\n",
              "      <td>0</td>\n",
              "      <td>0</td>\n",
              "      <td>0</td>\n",
              "      <td>1</td>\n",
              "    </tr>\n",
              "    <tr>\n",
              "      <th>2</th>\n",
              "      <td>246060</td>\n",
              "      <td>81</td>\n",
              "      <td>77.0</td>\n",
              "      <td>27.421875</td>\n",
              "      <td>0</td>\n",
              "      <td>Caucasian</td>\n",
              "      <td>F</td>\n",
              "      <td>160.0</td>\n",
              "      <td>Floor</td>\n",
              "      <td>Floor</td>\n",
              "      <td>90</td>\n",
              "      <td>admit</td>\n",
              "      <td>Med-Surg ICU</td>\n",
              "      <td>0.927778</td>\n",
              "      <td>0</td>\n",
              "      <td>70.2</td>\n",
              "      <td>NaN</td>\n",
              "      <td>108.0</td>\n",
              "      <td>203.01</td>\n",
              "      <td>0</td>\n",
              "      <td>0</td>\n",
              "      <td>NaN</td>\n",
              "      <td>9.0</td>\n",
              "      <td>0.56</td>\n",
              "      <td>1.0</td>\n",
              "      <td>1.0</td>\n",
              "      <td>3.0</td>\n",
              "      <td>0.0</td>\n",
              "      <td>1.0</td>\n",
              "      <td>145.0</td>\n",
              "      <td>120.0</td>\n",
              "      <td>36.9</td>\n",
              "      <td>0</td>\n",
              "      <td>46.0</td>\n",
              "      <td>37.0</td>\n",
              "      <td>37.0</td>\n",
              "      <td>51.0</td>\n",
              "      <td>7.45</td>\n",
              "      <td>33.0</td>\n",
              "      <td>145.0</td>\n",
              "      <td>...</td>\n",
              "      <td>11.3</td>\n",
              "      <td>11.3</td>\n",
              "      <td>36.9</td>\n",
              "      <td>36.9</td>\n",
              "      <td>1.3</td>\n",
              "      <td>1.3</td>\n",
              "      <td>3.5</td>\n",
              "      <td>3.5</td>\n",
              "      <td>557.0</td>\n",
              "      <td>557.0</td>\n",
              "      <td>4.2</td>\n",
              "      <td>4.2</td>\n",
              "      <td>145.0</td>\n",
              "      <td>145.0</td>\n",
              "      <td>12.7</td>\n",
              "      <td>12.7</td>\n",
              "      <td>37.0</td>\n",
              "      <td>37.0</td>\n",
              "      <td>7.45</td>\n",
              "      <td>7.45</td>\n",
              "      <td>51.0</td>\n",
              "      <td>51.0</td>\n",
              "      <td>54.8</td>\n",
              "      <td>51.000000</td>\n",
              "      <td>37.0</td>\n",
              "      <td>37.0</td>\n",
              "      <td>7.45</td>\n",
              "      <td>7.45</td>\n",
              "      <td>51.0</td>\n",
              "      <td>51.0</td>\n",
              "      <td>51.0</td>\n",
              "      <td>51.0</td>\n",
              "      <td>0</td>\n",
              "      <td>0</td>\n",
              "      <td>0</td>\n",
              "      <td>0</td>\n",
              "      <td>0</td>\n",
              "      <td>0</td>\n",
              "      <td>0</td>\n",
              "      <td>1</td>\n",
              "    </tr>\n",
              "    <tr>\n",
              "      <th>3</th>\n",
              "      <td>276985</td>\n",
              "      <td>118</td>\n",
              "      <td>25.0</td>\n",
              "      <td>31.952749</td>\n",
              "      <td>0</td>\n",
              "      <td>Caucasian</td>\n",
              "      <td>F</td>\n",
              "      <td>172.7</td>\n",
              "      <td>Emergency Department</td>\n",
              "      <td>Accident &amp; Emergency</td>\n",
              "      <td>93</td>\n",
              "      <td>admit</td>\n",
              "      <td>Med-Surg ICU</td>\n",
              "      <td>0.000694</td>\n",
              "      <td>0</td>\n",
              "      <td>95.3</td>\n",
              "      <td>NaN</td>\n",
              "      <td>122.0</td>\n",
              "      <td>703.03</td>\n",
              "      <td>0</td>\n",
              "      <td>0</td>\n",
              "      <td>NaN</td>\n",
              "      <td>NaN</td>\n",
              "      <td>NaN</td>\n",
              "      <td>NaN</td>\n",
              "      <td>3.0</td>\n",
              "      <td>6.0</td>\n",
              "      <td>0.0</td>\n",
              "      <td>5.0</td>\n",
              "      <td>NaN</td>\n",
              "      <td>102.0</td>\n",
              "      <td>NaN</td>\n",
              "      <td>0</td>\n",
              "      <td>68.0</td>\n",
              "      <td>NaN</td>\n",
              "      <td>NaN</td>\n",
              "      <td>NaN</td>\n",
              "      <td>NaN</td>\n",
              "      <td>37.0</td>\n",
              "      <td>NaN</td>\n",
              "      <td>...</td>\n",
              "      <td>NaN</td>\n",
              "      <td>NaN</td>\n",
              "      <td>NaN</td>\n",
              "      <td>NaN</td>\n",
              "      <td>NaN</td>\n",
              "      <td>NaN</td>\n",
              "      <td>NaN</td>\n",
              "      <td>NaN</td>\n",
              "      <td>NaN</td>\n",
              "      <td>NaN</td>\n",
              "      <td>NaN</td>\n",
              "      <td>NaN</td>\n",
              "      <td>NaN</td>\n",
              "      <td>NaN</td>\n",
              "      <td>NaN</td>\n",
              "      <td>NaN</td>\n",
              "      <td>NaN</td>\n",
              "      <td>NaN</td>\n",
              "      <td>NaN</td>\n",
              "      <td>NaN</td>\n",
              "      <td>NaN</td>\n",
              "      <td>NaN</td>\n",
              "      <td>NaN</td>\n",
              "      <td>NaN</td>\n",
              "      <td>NaN</td>\n",
              "      <td>NaN</td>\n",
              "      <td>NaN</td>\n",
              "      <td>NaN</td>\n",
              "      <td>NaN</td>\n",
              "      <td>NaN</td>\n",
              "      <td>NaN</td>\n",
              "      <td>NaN</td>\n",
              "      <td>0</td>\n",
              "      <td>0</td>\n",
              "      <td>0</td>\n",
              "      <td>0</td>\n",
              "      <td>0</td>\n",
              "      <td>0</td>\n",
              "      <td>0</td>\n",
              "      <td>0</td>\n",
              "    </tr>\n",
              "    <tr>\n",
              "      <th>4</th>\n",
              "      <td>262220</td>\n",
              "      <td>118</td>\n",
              "      <td>81.0</td>\n",
              "      <td>22.635548</td>\n",
              "      <td>1</td>\n",
              "      <td>Caucasian</td>\n",
              "      <td>F</td>\n",
              "      <td>165.1</td>\n",
              "      <td>Operating Room</td>\n",
              "      <td>Operating Room / Recovery</td>\n",
              "      <td>92</td>\n",
              "      <td>admit</td>\n",
              "      <td>CTICU</td>\n",
              "      <td>0.000694</td>\n",
              "      <td>0</td>\n",
              "      <td>61.7</td>\n",
              "      <td>NaN</td>\n",
              "      <td>203.0</td>\n",
              "      <td>1206.03</td>\n",
              "      <td>1</td>\n",
              "      <td>0</td>\n",
              "      <td>NaN</td>\n",
              "      <td>NaN</td>\n",
              "      <td>NaN</td>\n",
              "      <td>0.6</td>\n",
              "      <td>4.0</td>\n",
              "      <td>6.0</td>\n",
              "      <td>0.0</td>\n",
              "      <td>5.0</td>\n",
              "      <td>185.0</td>\n",
              "      <td>114.0</td>\n",
              "      <td>25.9</td>\n",
              "      <td>1</td>\n",
              "      <td>60.0</td>\n",
              "      <td>30.0</td>\n",
              "      <td>30.0</td>\n",
              "      <td>142.0</td>\n",
              "      <td>7.39</td>\n",
              "      <td>4.0</td>\n",
              "      <td>NaN</td>\n",
              "      <td>...</td>\n",
              "      <td>11.6</td>\n",
              "      <td>11.6</td>\n",
              "      <td>34.0</td>\n",
              "      <td>34.0</td>\n",
              "      <td>1.6</td>\n",
              "      <td>1.1</td>\n",
              "      <td>NaN</td>\n",
              "      <td>NaN</td>\n",
              "      <td>43.0</td>\n",
              "      <td>43.0</td>\n",
              "      <td>NaN</td>\n",
              "      <td>NaN</td>\n",
              "      <td>NaN</td>\n",
              "      <td>NaN</td>\n",
              "      <td>8.8</td>\n",
              "      <td>8.8</td>\n",
              "      <td>37.0</td>\n",
              "      <td>27.0</td>\n",
              "      <td>7.44</td>\n",
              "      <td>7.34</td>\n",
              "      <td>337.0</td>\n",
              "      <td>102.0</td>\n",
              "      <td>342.5</td>\n",
              "      <td>236.666667</td>\n",
              "      <td>36.0</td>\n",
              "      <td>33.0</td>\n",
              "      <td>7.37</td>\n",
              "      <td>7.34</td>\n",
              "      <td>337.0</td>\n",
              "      <td>265.0</td>\n",
              "      <td>337.0</td>\n",
              "      <td>337.0</td>\n",
              "      <td>0</td>\n",
              "      <td>0</td>\n",
              "      <td>0</td>\n",
              "      <td>0</td>\n",
              "      <td>0</td>\n",
              "      <td>0</td>\n",
              "      <td>0</td>\n",
              "      <td>0</td>\n",
              "    </tr>\n",
              "    <tr>\n",
              "      <th>5</th>\n",
              "      <td>201746</td>\n",
              "      <td>33</td>\n",
              "      <td>19.0</td>\n",
              "      <td>NaN</td>\n",
              "      <td>0</td>\n",
              "      <td>Caucasian</td>\n",
              "      <td>M</td>\n",
              "      <td>188.0</td>\n",
              "      <td>NaN</td>\n",
              "      <td>Accident &amp; Emergency</td>\n",
              "      <td>91</td>\n",
              "      <td>admit</td>\n",
              "      <td>Med-Surg ICU</td>\n",
              "      <td>0.073611</td>\n",
              "      <td>0</td>\n",
              "      <td>NaN</td>\n",
              "      <td>NaN</td>\n",
              "      <td>119.0</td>\n",
              "      <td>601.01</td>\n",
              "      <td>0</td>\n",
              "      <td>0</td>\n",
              "      <td>NaN</td>\n",
              "      <td>NaN</td>\n",
              "      <td>NaN</td>\n",
              "      <td>NaN</td>\n",
              "      <td>NaN</td>\n",
              "      <td>NaN</td>\n",
              "      <td>NaN</td>\n",
              "      <td>NaN</td>\n",
              "      <td>NaN</td>\n",
              "      <td>60.0</td>\n",
              "      <td>NaN</td>\n",
              "      <td>0</td>\n",
              "      <td>103.0</td>\n",
              "      <td>NaN</td>\n",
              "      <td>NaN</td>\n",
              "      <td>NaN</td>\n",
              "      <td>NaN</td>\n",
              "      <td>16.0</td>\n",
              "      <td>NaN</td>\n",
              "      <td>...</td>\n",
              "      <td>NaN</td>\n",
              "      <td>NaN</td>\n",
              "      <td>NaN</td>\n",
              "      <td>NaN</td>\n",
              "      <td>NaN</td>\n",
              "      <td>NaN</td>\n",
              "      <td>NaN</td>\n",
              "      <td>NaN</td>\n",
              "      <td>NaN</td>\n",
              "      <td>NaN</td>\n",
              "      <td>NaN</td>\n",
              "      <td>NaN</td>\n",
              "      <td>NaN</td>\n",
              "      <td>NaN</td>\n",
              "      <td>NaN</td>\n",
              "      <td>NaN</td>\n",
              "      <td>NaN</td>\n",
              "      <td>NaN</td>\n",
              "      <td>NaN</td>\n",
              "      <td>NaN</td>\n",
              "      <td>NaN</td>\n",
              "      <td>NaN</td>\n",
              "      <td>NaN</td>\n",
              "      <td>NaN</td>\n",
              "      <td>NaN</td>\n",
              "      <td>NaN</td>\n",
              "      <td>NaN</td>\n",
              "      <td>NaN</td>\n",
              "      <td>NaN</td>\n",
              "      <td>NaN</td>\n",
              "      <td>NaN</td>\n",
              "      <td>NaN</td>\n",
              "      <td>0</td>\n",
              "      <td>0</td>\n",
              "      <td>0</td>\n",
              "      <td>0</td>\n",
              "      <td>0</td>\n",
              "      <td>0</td>\n",
              "      <td>0</td>\n",
              "      <td>0</td>\n",
              "    </tr>\n",
              "  </tbody>\n",
              "</table>\n",
              "<p>5 rows × 180 columns</p>\n",
              "</div>"
            ],
            "text/plain": [
              "   encounter_id  hospital_id  ...  solid_tumor_with_metastasis  diabetes_mellitus\n",
              "1        214826          118  ...                            0                  1\n",
              "2        246060           81  ...                            0                  1\n",
              "3        276985          118  ...                            0                  0\n",
              "4        262220          118  ...                            0                  0\n",
              "5        201746           33  ...                            0                  0\n",
              "\n",
              "[5 rows x 180 columns]"
            ]
          },
          "metadata": {
            "tags": []
          },
          "execution_count": 17
        }
      ]
    },
    {
      "cell_type": "code",
      "metadata": {
        "colab": {
          "base_uri": "https://localhost:8080/",
          "height": 296
        },
        "id": "Y9x0Ywn7e70q",
        "outputId": "7f153155-ae29-497b-a0a1-2189606f0fbe"
      },
      "source": [
        "# distribution of ethnicity\n",
        "plt.figure(figsize=(10,4))\n",
        "sns.countplot(x=\"ethnicity\", data=wids_train_df, hue=\"diabetes_mellitus\")"
      ],
      "execution_count": null,
      "outputs": [
        {
          "output_type": "execute_result",
          "data": {
            "text/plain": [
              "<Figure size 720x288 with 0 Axes>"
            ]
          },
          "metadata": {
            "tags": []
          },
          "execution_count": 18
        },
        {
          "output_type": "execute_result",
          "data": {
            "text/plain": [
              "<matplotlib.axes._subplots.AxesSubplot at 0x7fbbb4cff410>"
            ]
          },
          "metadata": {
            "tags": []
          },
          "execution_count": 18
        },
        {
          "output_type": "display_data",
          "data": {
            "image/png": "[encoded data removed]",
            "text/plain": [
              "<Figure size 720x288 with 1 Axes>"
            ]
          },
          "metadata": {
            "tags": [],
            "needs_background": "light"
          }
        }
      ]
    },
    {
      "cell_type": "code",
      "metadata": {
        "colab": {
          "base_uri": "https://localhost:8080/",
          "height": 242
        },
        "id": "PZc9XxpEhw9R",
        "outputId": "0ba18c65-95e0-43bc-b107-ba6dfb33f116"
      },
      "source": [
        "plt.figure(figsize=(8,3))\n",
        "sns.countplot(x=\"gender\", data=wids_train_df, hue=\"diabetes_mellitus\")"
      ],
      "execution_count": null,
      "outputs": [
        {
          "output_type": "execute_result",
          "data": {
            "text/plain": [
              "<Figure size 576x216 with 0 Axes>"
            ]
          },
          "metadata": {
            "tags": []
          },
          "execution_count": 19
        },
        {
          "output_type": "execute_result",
          "data": {
            "text/plain": [
              "<matplotlib.axes._subplots.AxesSubplot at 0x7fbb7961d810>"
            ]
          },
          "metadata": {
            "tags": []
          },
          "execution_count": 19
        },
        {
          "output_type": "display_data",
          "data": {
            "image/png": "[encoded data removed]",
            "text/plain": [
              "<Figure size 576x216 with 1 Axes>"
            ]
          },
          "metadata": {
            "tags": [],
            "needs_background": "light"
          }
        }
      ]
    },
    {
      "cell_type": "markdown",
      "metadata": {
        "id": "BomMpv54W3Na"
      },
      "source": [
        "## ⚙️ Feature Engineering\n",
        "\n"
      ]
    },
    {
      "cell_type": "markdown",
      "metadata": {
        "id": "PYDJvLxzf4d8"
      },
      "source": [
        "### Fix Data Types"
      ]
    },
    {
      "cell_type": "code",
      "metadata": {
        "id": "_L5y-Iy5fp8j"
      },
      "source": [
        "def fix_data_types(cat_cols, bin_cols, num_cols, df):\n",
        "  df.loc[:,cat_cols] = df.loc[:,cat_cols].astype('category')\n",
        "  df.loc[:,bin_cols] = df.loc[:,bin_cols].astype(bool)\n",
        "  # print(df[num_cols].dtypes.nunique())\n",
        "  return df"
      ],
      "execution_count": null,
      "outputs": []
    },
    {
      "cell_type": "markdown",
      "metadata": {
        "id": "v4redP-5986o"
      },
      "source": [
        "### Missing Values"
      ]
    },
    {
      "cell_type": "markdown",
      "metadata": {
        "id": "IlXimHdyZzBn"
      },
      "source": [
        "Below we fix data types and deal with missing values, removing the variables with more than 90% missing cells, and imputing the remaining quantitative variables. The missing values are imputed when the model is trained. "
      ]
    },
    {
      "cell_type": "code",
      "metadata": {
        "id": "v_orUbwAc3nc"
      },
      "source": [
        "def remove_percent_missing(df, pct=0.99):\n",
        "  for i in df.columns:\n",
        "    percent_missing = df[[i]].isnull().sum()/df.shape[0]\n",
        "    if percent_missing[0] > pct:\n",
        "      df.drop(columns = [i], inplace=True)\n",
        "      # print(\"dropped\",i)\n",
        "  return df"
      ],
      "execution_count": null,
      "outputs": []
    },
    {
      "cell_type": "markdown",
      "metadata": {
        "id": "ztc3xZDQbeew"
      },
      "source": [
        "### Calculated BMI"
      ]
    },
    {
      "cell_type": "markdown",
      "metadata": {
        "id": "ibhaeK2PTp16"
      },
      "source": [
        "Due to the discrepancies between the values of the BMI variable and the BMI values we calculated using height and weight data, we chose to add the calculated BMI as a variable, as well as the difference between the two so that it may capture a patient's body changes in the cases when the given BMI was taken a long time ago. "
      ]
    },
    {
      "cell_type": "code",
      "metadata": {
        "id": "wM0epSFHTnqa"
      },
      "source": [
        "def add_bmi(df):\n",
        "  # add calculated BMI variable to dataframe\n",
        "  df[\"calculated_bmi\"] = df['weight']/(df[\"height\"]/100)**2\n",
        "\n",
        "  # add difference of BMI and calculated BMI as variable\n",
        "  df[\"bmi_difference\"] = df[\"bmi\"] - df[\"calculated_bmi\"]\n",
        "\n",
        "  # add additional columns with nonlinear transformations of bmi\n",
        "  #df[\"bmi_squared\"] = df[\"bmi\"]**2 NVM BAD\n",
        "\n",
        "  #df[\"bmi_log\"] = np.log(df[\"bmi\"]) NVM BAD\n",
        "\n",
        "  return df"
      ],
      "execution_count": null,
      "outputs": []
    },
    {
      "cell_type": "markdown",
      "metadata": {
        "id": "i0exZPzAbom4"
      },
      "source": [
        "### BMI by Ethnicity and Gender"
      ]
    },
    {
      "cell_type": "markdown",
      "metadata": {
        "id": "GiI58p0eUw-V"
      },
      "source": [
        "After speaking to medical professionals and researching the relationship between BMI and diabetes, we found that much of the bias in machine learning models come from using the standard white male BMI as a feature. Below, we added BMI values for overweight and obese diabetic individuals categorized by the ethnicities and genders given in the training data.\n",
        "\n",
        "The BMI values were taken from the [Supplementary Data](https://care.diabetesjournals.org/content/diacare/suppl/2019/09/03/dc19-0532.DC1/DC190532SupplementaryData.pdf) of the [journal](https://care.diabetesjournals.org/content/42/12/2211) *Racial/Ethnic Disparities in the Prevalence of Diabetes and Prediabetes by BMI: Patient Outcomes Research To Advance Learning (PORTAL) Multisite Cohort of Adults in the U.S.* by Yeyi Zhu, Margo A. Sidell, David Arterburn, Matthew F. Daley, Jay Desai, Stephanie L. Fitzpatrick, Michael A. Horberg, Corinna Koebnick, Emily McCormick, Caryn Oshiro, Deborah R. Young, and Assiamira Ferrara."
      ]
    },
    {
      "cell_type": "code",
      "metadata": {
        "id": "jws7zmt-XZ2o"
      },
      "source": [
        "def gender_ethnicity_overweight(df):\n",
        "  \"\"\"\n",
        "  Calculating whether a patient is considered overweight based on their BMI,  \n",
        "  gender and ethnicity.\n",
        "  \"\"\"\n",
        "  if df['gender'] == 'F':\n",
        "    if df['ethnicity'] == 'Caucasian':\n",
        "      return df['calculated_bmi'] >= 7.8 and df['calculated_bmi'] < 14.1\n",
        "    elif df['ethnicity'] == 'African American':\n",
        "      return df['calculated_bmi'] >= 15.9 and df['calculated_bmi'] < 21.2\n",
        "    elif df['ethnicity'] == 'Hispanic':\n",
        "      return df['calculated_bmi'] >= 16.6 and df['calculated_bmi'] < 23.4\n",
        "    elif df['ethnicity'] == 'Asian':\n",
        "      return df['calculated_bmi'] >= 16.4 and df['calculated_bmi'] < 24.9\n",
        "    elif df['ethnicity'] == 'Native American':\n",
        "      return df['calculated_bmi'] >= 14.1 and df['calculated_bmi'] < 21.4\n",
        "    else:\n",
        "      return df['calculated_bmi'] >= 11.8 and df['calculated_bmi'] < 18.4\n",
        "  \n",
        "  elif df['gender'] == 'M':\n",
        "    if df['ethnicity'] == 'Caucasian':\n",
        "      return df['calculated_bmi'] >= 10.9 and df['calculated_bmi'] < 18.6\n",
        "    elif df['ethnicity'] == 'African American':\n",
        "      return df['calculated_bmi'] >= 20.0 and df['calculated_bmi'] < 27.1\n",
        "    elif df['ethnicity'] == 'Hispanic':\n",
        "      return df['calculated_bmi'] >= 21.2 and df['calculated_bmi'] < 27.9\n",
        "    elif df['ethnicity'] == 'Asian':\n",
        "      return df['calculated_bmi'] >= 20.5 and df['calculated_bmi'] < 28.0\n",
        "    elif df['ethnicity'] == 'Native American':\n",
        "      return df['calculated_bmi'] >= 17.2 and df['calculated_bmi'] < 24.6\n",
        "    else:\n",
        "      return df['calculated_bmi'] >= 15.0 and df['calculated_bmi'] < 22.6\n",
        "  else:\n",
        "    return np.nan \n",
        "\n",
        "def gender_ethnicity_obese(df):\n",
        "  \"\"\"\n",
        "  Calculating whether a patient is considered obese based on their BMI,  \n",
        "  gender and ethnicity.\n",
        "  \"\"\"\n",
        "  if df['gender'] == 'F':\n",
        "    if df['ethnicity'] == 'Caucasian':\n",
        "      return df['calculated_bmi'] >= 14.1\n",
        "    elif df['ethnicity'] == 'African American':\n",
        "      return df['calculated_bmi'] >= 21.2\n",
        "    elif df['ethnicity'] == 'Hispanic':\n",
        "      return df['calculated_bmi'] >= 23.4\n",
        "    elif df['ethnicity'] == 'Asian':\n",
        "      return df['calculated_bmi'] >= 24.9\n",
        "    elif df['ethnicity'] == 'Native American':\n",
        "      return df['calculated_bmi'] >= 21.4\n",
        "    else:\n",
        "      return df['calculated_bmi'] >= 18.4\n",
        "  \n",
        "  elif df['gender'] == 'M':\n",
        "    if df['ethnicity'] == 'Caucasian':\n",
        "      return df['calculated_bmi'] >=  18.6\n",
        "    elif df['ethnicity'] == 'African American':\n",
        "      return df['calculated_bmi'] >= 27.1\n",
        "    elif df['ethnicity'] == 'Hispanic':\n",
        "      return df['calculated_bmi'] >= 27.9\n",
        "    elif df['ethnicity'] == 'Asian':\n",
        "      return df['calculated_bmi'] >= 28.0\n",
        "    elif df['ethnicity'] == 'Native American':\n",
        "      return df['calculated_bmi'] >=  24.6\n",
        "    else:\n",
        "      return df['calculated_bmi'] >= 22.6\n",
        "  else:\n",
        "    return np.nan "
      ],
      "execution_count": null,
      "outputs": []
    },
    {
      "cell_type": "code",
      "metadata": {
        "id": "cCMTCsgXPK7h"
      },
      "source": [
        "def ethnicity_gender_bmi(df):\n",
        "  \"\"\"\n",
        "  Adding boolean variable: 1 if BMI > x (overweight/obese), \n",
        "  0 otherwise. Where x depends on ethnicity and gender.\n",
        "  \"\"\"\n",
        "    \n",
        "  df[\"overweight_by_type\"] = df[['calculated_bmi', 'ethnicity', 'gender']].apply(gender_ethnicity_overweight, axis = 1)\n",
        "  df[\"obese_by_type\"] = df[['calculated_bmi', 'ethnicity', 'gender']].apply(gender_ethnicity_obese, axis = 1)\n",
        "  return df\n"
      ],
      "execution_count": null,
      "outputs": []
    },
    {
      "cell_type": "markdown",
      "metadata": {
        "id": "kt7EQ4JjAY2e"
      },
      "source": [
        "### Drop Columns"
      ]
    },
    {
      "cell_type": "code",
      "metadata": {
        "id": "UDY0H-ga_dCe"
      },
      "source": [
        "def drop_columns(df, test_df=False):\n",
        "  uninteresting_features = ['lymphoma',\n",
        "                            'ventilated_apache', 'apache_3j_diagnosis', 'map_apache', \n",
        "                            'pao2_apache', 'apache_post_operative','aids','temp_apache','leukemia',\n",
        "                            'solid_tumor_with_metastasis','hospital_admit_source','icu_id']\n",
        "  # remove old BMI to avoid multicollinearity\n",
        "  # df.drop(columns=['bmi'], inplace=True)\n",
        "\n",
        "  # df.drop(uninteresting_features, axis=1, inplace=True)\n",
        "  if test_df:\n",
        "    # not dropping the encounter ID since it's needed for labeling submission df\n",
        "    return df.drop(labels=['readmission_status', 'hospital_id'], axis=1)\n",
        "  else:\n",
        "    # dropping IDs and empty variable\n",
        "    return df.drop(labels=['encounter_id','readmission_status', 'hospital_id'], axis=1)\n",
        "  # return df"
      ],
      "execution_count": null,
      "outputs": []
    },
    {
      "cell_type": "markdown",
      "metadata": {
        "id": "m34NyaNfl_Ok"
      },
      "source": [
        "### Separate by Variable Type"
      ]
    },
    {
      "cell_type": "markdown",
      "metadata": {
        "id": "X3YeKX5_l_Ol"
      },
      "source": [
        "Separate the variables into binary, categorical and numerical feature lists and use them to pass the datasets through the pipeline of functions created in the Feature Engineering section. "
      ]
    },
    {
      "cell_type": "code",
      "metadata": {
        "id": "Jz8wnnahf8vs"
      },
      "source": [
        "#Binary columns; \n",
        "bin_cols = ['overweight_by_type', 'obese_by_type',\n",
        "            'hepatic_failure','immunosuppression','intubated_apache',\n",
        "            'arf_apache','cirrhosis','gender','elective_surgery',\n",
        "            'gcs_unable_apache']\n",
        "\n",
        "# uninteresting\n",
        "bin_cols += ['lymphoma','leukemia','ventilated_apache', 'apache_post_operative',\n",
        "             'aids', 'solid_tumor_with_metastasis']"
      ],
      "execution_count": null,
      "outputs": []
    },
    {
      "cell_type": "code",
      "metadata": {
        "id": "2IGLl4UAf8vt"
      },
      "source": [
        "#Categorical columns;\n",
        "# can include hostpital ID later\n",
        "cat_cols = ['icu_type', 'ethnicity', 'icu_admit_source', 'icu_stay_type', 'apache_2_diagnosis']\n",
        "\n",
        "cat_cols += ['hospital_admit_source', 'apache_3j_diagnosis']"
      ],
      "execution_count": null,
      "outputs": []
    },
    {
      "cell_type": "code",
      "metadata": {
        "id": "qD8xpml7f8vt"
      },
      "source": [
        "num_cols = list(set(wids_train_df.columns).difference(set(bin_cols)).difference(set(cat_cols)))\n",
        "\n",
        "# other_num_cols = list(set(interesting_features).difference(set(bin_cols)).difference(set(cat_cols)))\n",
        "# other_num_cols += ['calculated_bmi', 'bmi_difference']\n",
        "\n",
        "# uninteresting\n",
        "# other_num_cols += ['map_apache', 'pao2_apache', 'temp_apache', 'icu_id']"
      ],
      "execution_count": null,
      "outputs": []
    },
    {
      "cell_type": "code",
      "metadata": {
        "id": "okK8i-3Jf8vt"
      },
      "source": [
        "#All features;\n",
        "all_features = bin_cols + cat_cols + num_cols"
      ],
      "execution_count": null,
      "outputs": []
    },
    {
      "cell_type": "code",
      "metadata": {
        "id": "hwcadvBnf8vu"
      },
      "source": [
        "# uninteresting columns based on research\n",
        "uninteresting_features = list(set(wids_train_df.columns).difference(set(all_features)))"
      ],
      "execution_count": null,
      "outputs": []
    },
    {
      "cell_type": "code",
      "metadata": {
        "colab": {
          "base_uri": "https://localhost:8080/"
        },
        "id": "Fu9wLj_nEALw",
        "outputId": "2e202ebc-61d3-4b8a-e655-0092747c1daf"
      },
      "source": [
        "len(uninteresting_features)"
      ],
      "execution_count": null,
      "outputs": [
        {
          "output_type": "execute_result",
          "data": {
            "text/plain": [
              "0"
            ]
          },
          "metadata": {
            "tags": []
          },
          "execution_count": 31
        }
      ]
    },
    {
      "cell_type": "markdown",
      "metadata": {
        "id": "R42lBbi0c2Zw"
      },
      "source": [
        "### Fix Age as 0"
      ]
    },
    {
      "cell_type": "code",
      "metadata": {
        "id": "KLCK2qTXc3oZ"
      },
      "source": [
        "# filling zeroes with mean\n",
        "# wids_train_df.loc[wids_train_df['age']==0,'age'] = wids_train_df['age'].mean()\n",
        "wids_train_df.loc[wids_train_df['age']==0,'age'] = wids_train_df['age'].median()\n",
        "# wids_train_df.loc[wids_train_df['age']==0,'age'] = wids_train_df['age'].mode()\n"
      ],
      "execution_count": null,
      "outputs": []
    },
    {
      "cell_type": "markdown",
      "metadata": {
        "id": "W4uHZ0Zif8vu"
      },
      "source": [
        "### Pipeline for each ethnicity/gender dataset"
      ]
    },
    {
      "cell_type": "code",
      "metadata": {
        "id": "Z_QTVqcLBmUR"
      },
      "source": [
        "#Create a separate dataframe for each ethnicity and each gender. \n",
        "\n",
        "#Ethnicities\n",
        "caucasian = wids_train_df[wids_train_df['ethnicity'] == 'Caucasian']\n",
        "hispanic = wids_train_df[wids_train_df['ethnicity'] == 'Hispanic']\n",
        "african_american = wids_train_df[wids_train_df['ethnicity'] == 'African American']\n",
        "asian = wids_train_df[wids_train_df['ethnicity'] == 'Asian']\n",
        "native_american = wids_train_df[wids_train_df['ethnicity'] == 'Native American']\n",
        "\n",
        "#Genders\n",
        "male = wids_train_df[wids_train_df['gender'] == 'M']\n",
        "female = wids_train_df[wids_train_df['gender'] == 'F']\n",
        "\n",
        "#List of each dataframe\n",
        "all_dfs = {'caucasian':caucasian, 'hispanic': hispanic, 'african_american': african_american, 'asian': asian, 'native_american': native_american, 'male': male, 'female': female}"
      ],
      "execution_count": null,
      "outputs": []
    },
    {
      "cell_type": "code",
      "metadata": {
        "colab": {
          "base_uri": "https://localhost:8080/"
        },
        "id": "VsAU2m9qf8vu",
        "outputId": "5c92e84b-cd67-40fd-d151-265d310e310f"
      },
      "source": [
        "#Run pipeline for each dataframe. Note ethnicity_gender_bmi returns all trues and so the columns are removed when getting dummies. \n",
        "train_dfs = {}\n",
        "\n",
        "for key in all_dfs.keys():\n",
        "  train_dfs[key] = drop_columns(remove_percent_missing(fix_data_types(cat_cols, \n",
        "                                                           bin_cols, num_cols, \n",
        "                                                           ethnicity_gender_bmi(add_bmi(all_dfs[key]))),0.91))\n",
        "\n",
        "  # create dummy vars based on categorical and binary variables\n",
        "  train_dfs[key] = pd.get_dummies(data=train_dfs[key], columns=cat_cols+bin_cols, drop_first=True)\n",
        "  print(train_dfs[key].shape)\n",
        "\n",
        "  # hard coding apache 3j diagnosis col missing in training data\n",
        "  train_dfs[key]['apache_3j_diagnosis_1703.06'] = 0"
      ],
      "execution_count": null,
      "outputs": [
        {
          "output_type": "stream",
          "text": [
            "/usr/local/lib/python3.7/dist-packages/ipykernel_launcher.py:3: SettingWithCopyWarning: \n",
            "A value is trying to be set on a copy of a slice from a DataFrame.\n",
            "Try using .loc[row_indexer,col_indexer] = value instead\n",
            "\n",
            "See the caveats in the documentation: https://pandas.pydata.org/pandas-docs/stable/user_guide/indexing.html#returning-a-view-versus-a-copy\n",
            "  This is separate from the ipykernel package so we can avoid doing imports until\n",
            "/usr/local/lib/python3.7/dist-packages/ipykernel_launcher.py:6: SettingWithCopyWarning: \n",
            "A value is trying to be set on a copy of a slice from a DataFrame.\n",
            "Try using .loc[row_indexer,col_indexer] = value instead\n",
            "\n",
            "See the caveats in the documentation: https://pandas.pydata.org/pandas-docs/stable/user_guide/indexing.html#returning-a-view-versus-a-copy\n",
            "  \n",
            "/usr/local/lib/python3.7/dist-packages/ipykernel_launcher.py:7: SettingWithCopyWarning: \n",
            "A value is trying to be set on a copy of a slice from a DataFrame.\n",
            "Try using .loc[row_indexer,col_indexer] = value instead\n",
            "\n",
            "See the caveats in the documentation: https://pandas.pydata.org/pandas-docs/stable/user_guide/indexing.html#returning-a-view-versus-a-copy\n",
            "  import sys\n",
            "/usr/local/lib/python3.7/dist-packages/ipykernel_launcher.py:8: SettingWithCopyWarning: \n",
            "A value is trying to be set on a copy of a slice from a DataFrame.\n",
            "Try using .loc[row_indexer,col_indexer] = value instead\n",
            "\n",
            "See the caveats in the documentation: https://pandas.pydata.org/pandas-docs/stable/user_guide/indexing.html#returning-a-view-versus-a-copy\n",
            "  \n",
            "/usr/local/lib/python3.7/dist-packages/pandas/core/indexing.py:1715: SettingWithCopyWarning: \n",
            "A value is trying to be set on a copy of a slice from a DataFrame.\n",
            "Try using .loc[row_indexer,col_indexer] = value instead\n",
            "\n",
            "See the caveats in the documentation: https://pandas.pydata.org/pandas-docs/stable/user_guide/indexing.html#returning-a-view-versus-a-copy\n",
            "  isetter(loc, v)\n",
            "/usr/local/lib/python3.7/dist-packages/pandas/core/frame.py:4174: SettingWithCopyWarning: \n",
            "A value is trying to be set on a copy of a slice from a DataFrame\n",
            "\n",
            "See the caveats in the documentation: https://pandas.pydata.org/pandas-docs/stable/user_guide/indexing.html#returning-a-view-versus-a-copy\n",
            "  errors=errors,\n"
          ],
          "name": "stderr"
        },
        {
          "output_type": "stream",
          "text": [
            "(100236, 634)\n",
            "(5049, 531)\n",
            "(13911, 595)\n",
            "(2198, 478)\n",
            "(915, 411)\n",
            "(70518, 626)\n",
            "(59573, 624)\n"
          ],
          "name": "stdout"
        }
      ]
    },
    {
      "cell_type": "markdown",
      "metadata": {
        "id": "Jtkut-gJi8eF"
      },
      "source": [
        "## 🔥 Modeling"
      ]
    },
    {
      "cell_type": "markdown",
      "metadata": {
        "id": "scTcdfkKjJZ8"
      },
      "source": [
        "### Separate by Variable Type"
      ]
    },
    {
      "cell_type": "markdown",
      "metadata": {
        "id": "kl-ILeSN_hrn"
      },
      "source": [
        "Below, we split the data into a training and test set. We separate the variables into binary, categorical and numerical feature lists and use them to pass the datasets through the pipeline of functions created in the Feature Engineering section. "
      ]
    },
    {
      "cell_type": "code",
      "metadata": {
        "id": "QDqbbigPjOzI"
      },
      "source": [
        "#Split into training and test sets\n",
        "tr = {}\n",
        "te = {}\n",
        "target = {}\n",
        "for key in train_dfs.keys():\n",
        "  tr[key], te[key] = train_test_split(train_dfs[key], test_size=0.3, random_state=83)\n",
        "  target[key] = tr[key]['diabetes_mellitus']\n",
        "  tr[key]=tr[key].drop(columns = ['diabetes_mellitus'])"
      ],
      "execution_count": null,
      "outputs": []
    },
    {
      "cell_type": "code",
      "metadata": {
        "colab": {
          "base_uri": "https://localhost:8080/"
        },
        "id": "u2RFNyhpXp0H",
        "outputId": "3cff2d45-3362-4d4e-ea8b-31ac39f6a725"
      },
      "source": [
        "#Check\n",
        "te['asian'].shape[0] + tr['asian'].shape[0] == train_dfs['asian'].shape[0]"
      ],
      "execution_count": null,
      "outputs": [
        {
          "output_type": "execute_result",
          "data": {
            "text/plain": [
              "True"
            ]
          },
          "metadata": {
            "tags": []
          },
          "execution_count": 92
        }
      ]
    },
    {
      "cell_type": "markdown",
      "metadata": {
        "id": "GBJmfkkthdIp"
      },
      "source": [
        "### Training the Model"
      ]
    },
    {
      "cell_type": "code",
      "metadata": {
        "colab": {
          "base_uri": "https://localhost:8080/"
        },
        "id": "4x42EPGbNcNf",
        "outputId": "7935771b-3d29-4566-a8bf-c0ed006a3e90"
      },
      "source": [
        "#Run the model for each dataframe\n",
        "clf= {}\n",
        "arr_f1_weighted = {}\n",
        "arr_f1_macro = {}\n",
        "arr_f1_positive = {}\n",
        "prediction_folds = {}\n",
        "preds_folds = {}\n",
        "y_folds = {}\n",
        "\n",
        "for key in tr.keys():  \n",
        "  params = {\n",
        "          'boosting_type': 'gbdt',\n",
        "          'objective': 'binary',\n",
        "          'metric': 'auc',\n",
        "          'learning_rate': 0.004,\n",
        "          'subsample': 1,\n",
        "          'colsample_bytree': 0.2,\n",
        "          'reg_alpha': 3,\n",
        "          'reg_lambda': 1,\n",
        "          'scale_pos_weight': 5,\n",
        "          'n_estimators': 10000,\n",
        "          'verbose': 1,\n",
        "          'max_depth': -1,\n",
        "          'seed':100, \n",
        "          'force_col_wise': True,\n",
        "          \"num_leaves\":36\n",
        "          #'objective': 'binary',\n",
        "          #'boosting': 'gbdt',        \n",
        "          #'learning_rate': 0.01,\n",
        "          #'seed': 100,\n",
        "          #'scale_pos_weight': 0.1,\n",
        "          #'categorical_feature': 'auto'\n",
        "          # 'metric': 'auc',\n",
        "          # 'scale_pos_weight':0.1,\n",
        "          # 'learning_rate': 0.02,\n",
        "          # 'num_boost_round':2000,\n",
        "          # \"min_sum_hessian_in_leaf\":1,\n",
        "          # 'max_depth' : 100,\n",
        "          # \"bagging_freq\": 2,\n",
        "          # \"bagging_fraction\" : 0.4,\n",
        "          # \"feature_fraction\" : 0.05\n",
        "  }\n",
        "\n",
        "  clf[key],arr_f1_weighted[key],arr_f1_macro[key],arr_f1_positive[key],prediction_folds[key],preds_folds[key],y_folds[key]= oc.cv(tr[key],target[key],\n",
        "                                                                                              0.5,10000,shuffle=True,params=params)\n"
      ],
      "execution_count": null,
      "outputs": [
        {
          "output_type": "stream",
          "text": [
            "\r0it [00:00, ?it/s]/usr/local/lib/python3.7/dist-packages/lightgbm/engine.py:118: UserWarning: Found `n_estimators` in params. Will use it instead of argument\n",
            "  warnings.warn(\"Found `{}` in params. Will use it instead of argument\".format(alias))\n",
            "/usr/local/lib/python3.7/dist-packages/lightgbm/basic.py:1205: UserWarning: Using categorical_feature in Dataset.\n",
            "  warnings.warn('Using categorical_feature in Dataset.')\n",
            "5it [32:02, 384.58s/it]\n",
            "0it [00:00, ?it/s]/usr/local/lib/python3.7/dist-packages/lightgbm/engine.py:118: UserWarning: Found `n_estimators` in params. Will use it instead of argument\n",
            "  warnings.warn(\"Found `{}` in params. Will use it instead of argument\".format(alias))\n",
            "/usr/local/lib/python3.7/dist-packages/lightgbm/basic.py:1205: UserWarning: Using categorical_feature in Dataset.\n",
            "  warnings.warn('Using categorical_feature in Dataset.')\n"
          ],
          "name": "stderr"
        },
        {
          "output_type": "stream",
          "text": [
            "Method Name       :\u001b[35;1m cv\u001b[0m\n",
            "Current memory usage:\u001b[36m 4.037487MB\u001b[0m\n",
            "Peak                :\u001b[36m 957.435027MB\u001b[0m\n",
            "Total time taken:  \u001b[36m 1922947.144 ms \u001b[0m\n"
          ],
          "name": "stdout"
        },
        {
          "output_type": "stream",
          "text": [
            "5it [05:17, 63.43s/it]\n",
            "0it [00:00, ?it/s]/usr/local/lib/python3.7/dist-packages/lightgbm/engine.py:118: UserWarning: Found `n_estimators` in params. Will use it instead of argument\n",
            "  warnings.warn(\"Found `{}` in params. Will use it instead of argument\".format(alias))\n",
            "/usr/local/lib/python3.7/dist-packages/lightgbm/basic.py:1205: UserWarning: Using categorical_feature in Dataset.\n",
            "  warnings.warn('Using categorical_feature in Dataset.')\n"
          ],
          "name": "stderr"
        },
        {
          "output_type": "stream",
          "text": [
            "Method Name       :\u001b[35;1m cv\u001b[0m\n",
            "Current memory usage:\u001b[36m 0.278235MB\u001b[0m\n",
            "Peak                :\u001b[36m 73.575395MB\u001b[0m\n",
            "Total time taken:  \u001b[36m 317142.226 ms \u001b[0m\n"
          ],
          "name": "stdout"
        },
        {
          "output_type": "stream",
          "text": [
            "5it [11:58, 143.74s/it]\n",
            "0it [00:00, ?it/s]/usr/local/lib/python3.7/dist-packages/lightgbm/engine.py:118: UserWarning: Found `n_estimators` in params. Will use it instead of argument\n",
            "  warnings.warn(\"Found `{}` in params. Will use it instead of argument\".format(alias))\n",
            "/usr/local/lib/python3.7/dist-packages/lightgbm/basic.py:1205: UserWarning: Using categorical_feature in Dataset.\n",
            "  warnings.warn('Using categorical_feature in Dataset.')\n"
          ],
          "name": "stderr"
        },
        {
          "output_type": "stream",
          "text": [
            "Method Name       :\u001b[35;1m cv\u001b[0m\n",
            "Current memory usage:\u001b[36m 0.611278MB\u001b[0m\n",
            "Peak                :\u001b[36m 126.388816MB\u001b[0m\n",
            "Total time taken:  \u001b[36m 718708.478 ms \u001b[0m\n"
          ],
          "name": "stdout"
        },
        {
          "output_type": "stream",
          "text": [
            "5it [02:24, 28.95s/it]\n",
            "0it [00:00, ?it/s]/usr/local/lib/python3.7/dist-packages/lightgbm/engine.py:118: UserWarning: Found `n_estimators` in params. Will use it instead of argument\n",
            "  warnings.warn(\"Found `{}` in params. Will use it instead of argument\".format(alias))\n",
            "/usr/local/lib/python3.7/dist-packages/lightgbm/basic.py:1205: UserWarning: Using categorical_feature in Dataset.\n",
            "  warnings.warn('Using categorical_feature in Dataset.')\n"
          ],
          "name": "stderr"
        },
        {
          "output_type": "stream",
          "text": [
            "Method Name       :\u001b[35;1m cv\u001b[0m\n",
            "Current memory usage:\u001b[36m 0.135669MB\u001b[0m\n",
            "Peak                :\u001b[36m 40.184003MB\u001b[0m\n",
            "Total time taken:  \u001b[36m 144782.195 ms \u001b[0m\n"
          ],
          "name": "stdout"
        },
        {
          "output_type": "stream",
          "text": [
            "5it [01:13, 14.70s/it]\n",
            "0it [00:00, ?it/s]/usr/local/lib/python3.7/dist-packages/lightgbm/engine.py:118: UserWarning: Found `n_estimators` in params. Will use it instead of argument\n",
            "  warnings.warn(\"Found `{}` in params. Will use it instead of argument\".format(alias))\n",
            "/usr/local/lib/python3.7/dist-packages/lightgbm/basic.py:1205: UserWarning: Using categorical_feature in Dataset.\n",
            "  warnings.warn('Using categorical_feature in Dataset.')\n"
          ],
          "name": "stderr"
        },
        {
          "output_type": "stream",
          "text": [
            "Method Name       :\u001b[35;1m cv\u001b[0m\n",
            "Current memory usage:\u001b[36m 0.088924MB\u001b[0m\n",
            "Peak                :\u001b[36m 17.447645MB\u001b[0m\n",
            "Total time taken:  \u001b[36m 73514.279 ms \u001b[0m\n"
          ],
          "name": "stdout"
        },
        {
          "output_type": "stream",
          "text": [
            "5it [25:53, 310.69s/it]\n",
            "0it [00:00, ?it/s]/usr/local/lib/python3.7/dist-packages/lightgbm/engine.py:118: UserWarning: Found `n_estimators` in params. Will use it instead of argument\n",
            "  warnings.warn(\"Found `{}` in params. Will use it instead of argument\".format(alias))\n",
            "/usr/local/lib/python3.7/dist-packages/lightgbm/basic.py:1205: UserWarning: Using categorical_feature in Dataset.\n",
            "  warnings.warn('Using categorical_feature in Dataset.')\n"
          ],
          "name": "stderr"
        },
        {
          "output_type": "stream",
          "text": [
            "Method Name       :\u001b[35;1m cv\u001b[0m\n",
            "Current memory usage:\u001b[36m 2.609132MB\u001b[0m\n",
            "Peak                :\u001b[36m 667.62601MB\u001b[0m\n",
            "Total time taken:  \u001b[36m 1553491.618 ms \u001b[0m\n"
          ],
          "name": "stdout"
        },
        {
          "output_type": "stream",
          "text": [
            "5it [26:13, 314.80s/it]"
          ],
          "name": "stderr"
        },
        {
          "output_type": "stream",
          "text": [
            "Method Name       :\u001b[35;1m cv\u001b[0m\n",
            "Current memory usage:\u001b[36m 2.224692MB\u001b[0m\n",
            "Peak                :\u001b[36m 561.362884MB\u001b[0m\n",
            "Total time taken:  \u001b[36m 1574006.664 ms \u001b[0m\n"
          ],
          "name": "stdout"
        },
        {
          "output_type": "stream",
          "text": [
            "\n"
          ],
          "name": "stderr"
        }
      ]
    },
    {
      "cell_type": "code",
      "metadata": {
        "colab": {
          "base_uri": "https://localhost:8080/"
        },
        "id": "LVmYriWFrDdb",
        "outputId": "0482a15e-18ae-4498-fbee-bcd856c4064b"
      },
      "source": [
        "for key in tr.keys(): \n",
        "  print(classification_report(y_folds[key], prediction_folds[key]))\n"
      ],
      "execution_count": null,
      "outputs": [
        {
          "output_type": "stream",
          "text": [
            "              precision    recall  f1-score   support\n",
            "\n",
            "           0       0.93      0.81      0.87     55628\n",
            "           1       0.52      0.77      0.62     14537\n",
            "\n",
            "    accuracy                           0.80     70165\n",
            "   macro avg       0.72      0.79      0.74     70165\n",
            "weighted avg       0.84      0.80      0.82     70165\n",
            "\n",
            "              precision    recall  f1-score   support\n",
            "\n",
            "           0       0.86      0.86      0.86      2644\n",
            "           1       0.59      0.60      0.60       890\n",
            "\n",
            "    accuracy                           0.80      3534\n",
            "   macro avg       0.73      0.73      0.73      3534\n",
            "weighted avg       0.80      0.80      0.80      3534\n",
            "\n",
            "              precision    recall  f1-score   support\n",
            "\n",
            "           0       0.87      0.83      0.85      7163\n",
            "           1       0.57      0.64      0.61      2574\n",
            "\n",
            "    accuracy                           0.78      9737\n",
            "   macro avg       0.72      0.73      0.73      9737\n",
            "weighted avg       0.79      0.78      0.78      9737\n",
            "\n",
            "              precision    recall  f1-score   support\n",
            "\n",
            "           0       0.82      0.85      0.84      1147\n",
            "           1       0.52      0.46      0.49       391\n",
            "\n",
            "    accuracy                           0.75      1538\n",
            "   macro avg       0.67      0.66      0.66      1538\n",
            "weighted avg       0.74      0.75      0.75      1538\n",
            "\n",
            "              precision    recall  f1-score   support\n",
            "\n",
            "           0       0.84      0.75      0.79       438\n",
            "           1       0.56      0.69      0.62       202\n",
            "\n",
            "    accuracy                           0.73       640\n",
            "   macro avg       0.70      0.72      0.71       640\n",
            "weighted avg       0.75      0.73      0.74       640\n",
            "\n",
            "              precision    recall  f1-score   support\n",
            "\n",
            "           0       0.92      0.81      0.86     38604\n",
            "           1       0.53      0.76      0.62     10758\n",
            "\n",
            "    accuracy                           0.80     49362\n",
            "   macro avg       0.73      0.78      0.74     49362\n",
            "weighted avg       0.84      0.80      0.81     49362\n",
            "\n",
            "              precision    recall  f1-score   support\n",
            "\n",
            "           0       0.92      0.83      0.87     32795\n",
            "           1       0.54      0.73      0.62      8906\n",
            "\n",
            "    accuracy                           0.81     41701\n",
            "   macro avg       0.73      0.78      0.75     41701\n",
            "weighted avg       0.84      0.81      0.82     41701\n",
            "\n"
          ],
          "name": "stdout"
        }
      ]
    },
    {
      "cell_type": "code",
      "metadata": {
        "colab": {
          "base_uri": "https://localhost:8080/",
          "height": 1000
        },
        "id": "5GzOO-HYPiJC",
        "outputId": "7ac53abb-4884-4626-e2c2-9ea08d27344f"
      },
      "source": [
        "for key in tr.keys(): \n",
        "  oc.roc_curve_plot(y_folds[key],preds_folds[key])\n"
      ],
      "execution_count": null,
      "outputs": [
        {
          "output_type": "display_data",
          "data": {
            "image/png": "[encoded data removed]",
            "text/plain": [
              "<Figure size 576x432 with 1 Axes>"
            ]
          },
          "metadata": {
            "tags": []
          }
        },
        {
          "output_type": "display_data",
          "data": {
            "image/png": "[encoded data removed]",
            "text/plain": [
              "<Figure size 576x432 with 1 Axes>"
            ]
          },
          "metadata": {
            "tags": []
          }
        },
        {
          "output_type": "display_data",
          "data": {
            "image/png": "[encoded data removed]",
            "text/plain": [
              "<Figure size 576x432 with 1 Axes>"
            ]
          },
          "metadata": {
            "tags": []
          }
        },
        {
          "output_type": "display_data",
          "data": {
            "image/png": "[encoded data removed]",
            "text/plain": [
              "<Figure size 576x432 with 1 Axes>"
            ]
          },
          "metadata": {
            "tags": []
          }
        },
        {
          "output_type": "display_data",
          "data": {
            "image/png": "[encoded data removed]",
            "text/plain": [
              "<Figure size 576x432 with 1 Axes>"
            ]
          },
          "metadata": {
            "tags": []
          }
        },
        {
          "output_type": "display_data",
          "data": {
            "image/png": "[encoded data removed]",
            "text/plain": [
              "<Figure size 576x432 with 1 Axes>"
            ]
          },
          "metadata": {
            "tags": []
          }
        },
        {
          "output_type": "display_data",
          "data": {
            "image/png": "[encoded data removed]",
            "text/plain": [
              "<Figure size 576x432 with 1 Axes>"
            ]
          },
          "metadata": {
            "tags": []
          }
        }
      ]
    },
    {
      "cell_type": "code",
      "metadata": {
        "colab": {
          "base_uri": "https://localhost:8080/"
        },
        "id": "F3iXbNMLRAIA",
        "outputId": "3b4cc3e9-1fc9-458b-94e8-dd15ff67b91c"
      },
      "source": [
        "for key in tr.keys(): \n",
        "  roc_auc_score(y_folds[key],preds_folds[key])"
      ],
      "execution_count": null,
      "outputs": [
        {
          "output_type": "execute_result",
          "data": {
            "text/plain": [
              "0.869895668293163"
            ]
          },
          "metadata": {
            "tags": []
          },
          "execution_count": 96
        },
        {
          "output_type": "execute_result",
          "data": {
            "text/plain": [
              "0.8367709802988322"
            ]
          },
          "metadata": {
            "tags": []
          },
          "execution_count": 96
        },
        {
          "output_type": "execute_result",
          "data": {
            "text/plain": [
              "0.8316559423637463"
            ]
          },
          "metadata": {
            "tags": []
          },
          "execution_count": 96
        },
        {
          "output_type": "execute_result",
          "data": {
            "text/plain": [
              "0.7601147884952851"
            ]
          },
          "metadata": {
            "tags": []
          },
          "execution_count": 96
        },
        {
          "output_type": "execute_result",
          "data": {
            "text/plain": [
              "0.8003978480039785"
            ]
          },
          "metadata": {
            "tags": []
          },
          "execution_count": 96
        },
        {
          "output_type": "execute_result",
          "data": {
            "text/plain": [
              "0.8633569018303777"
            ]
          },
          "metadata": {
            "tags": []
          },
          "execution_count": 96
        },
        {
          "output_type": "execute_result",
          "data": {
            "text/plain": [
              "0.8671820162865855"
            ]
          },
          "metadata": {
            "tags": []
          },
          "execution_count": 96
        }
      ]
    },
    {
      "cell_type": "markdown",
      "metadata": {
        "id": "KE3PlV79U2m8"
      },
      "source": [
        "## ➡️ Test set predictions"
      ]
    },
    {
      "cell_type": "code",
      "metadata": {
        "id": "uFRH429GAshT"
      },
      "source": [
        "te_preds = {}\n",
        "te_target = {}\n",
        "for key in te.keys():    \n",
        "    te_target[key]= te[key].pop('diabetes_mellitus')\n",
        "    #if 'diabetes_mellitus' in te[key].columns:\n",
        "     #   te_target[key] = te[key].drop(['diabetes_mellitus'],axis=1)\n",
        "    te_preds[key]=clf[key].predict(te[key][tr[key].columns.tolist()])"
      ],
      "execution_count": null,
      "outputs": []
    },
    {
      "cell_type": "code",
      "metadata": {
        "colab": {
          "base_uri": "https://localhost:8080/"
        },
        "id": "dSbDddDO3Fg4",
        "outputId": "f2b048ae-b493-4299-afb8-18ba18bece9e"
      },
      "source": [
        "for key in te.keys(): \n",
        "  print(key + ' roc score:' + str(roc_auc_score(te_target[key], te_preds[key])))\n"
      ],
      "execution_count": null,
      "outputs": [
        {
          "output_type": "stream",
          "text": [
            "caucasian roc score:0.8746917031437869\n",
            "hispanic roc score:0.8340094493717485\n",
            "african_american roc score:0.8435640067993009\n",
            "asian roc score:0.7846468021906619\n",
            "native_american roc score:0.8154549774293182\n",
            "male roc score:0.8655777718164039\n",
            "female roc score:0.8673973856267594\n"
          ],
          "name": "stdout"
        }
      ]
    },
    {
      "cell_type": "code",
      "metadata": {
        "colab": {
          "base_uri": "https://localhost:8080/",
          "height": 621
        },
        "id": "B1TbSETY6zvx",
        "outputId": "19ada87b-2d9a-4591-9229-65e98dbe264c"
      },
      "source": [
        "#ROC Curve\n",
        "from sklearn.metrics import roc_curve\n",
        "fpr1 , tpr1, thresholds1 = roc_curve(te_target['caucasian'], te_preds['caucasian'])\n",
        "\n",
        "fpr2 , tpr2, thresholds2 = roc_curve(te_target['hispanic'], te_preds['hispanic'])\n",
        "\n",
        "fpr3 , tpr3, thresholds3 = roc_curve(te_target['african_american'], te_preds['african_american'])\n",
        "\n",
        "fpr4 , tpr4, thresholds4 = roc_curve(te_target['asian'], te_preds['asian'])\n",
        "\n",
        "fpr5 , tpr5, thresholds5 = roc_curve(te_target['native_american'], te_preds['native_american'])\n",
        "\n",
        "fpr6 , tpr6, thresholds6 = roc_curve(te_target['male'], te_preds['male'])\n",
        "\n",
        "fpr7 , tpr7, thresholds7 = roc_curve(te_target['female'], te_preds['female'])\n",
        "\n",
        "\n",
        "\n",
        "plt.plot([0,1],[0,1], 'k--')\n",
        "plt.plot(fpr1, tpr1, label= \"Caucasian (area = \" + '0.8747' + \")\")\n",
        "plt.plot(fpr7, tpr7, label= \"Female (area = \" + '0.8674' + \")\")\n",
        "plt.plot(fpr6, tpr6, label= \"Male (area = \" + '0.8656' + \")\")\n",
        "plt.plot(fpr3, tpr3, label= \"African American (area = \" + '0.8436' + \")\")\n",
        "plt.plot(fpr2, tpr2, label= \"Hispanic (area = \" + '0.8340' + \")\")\n",
        "plt.plot(fpr5, tpr5, label= \"Native American (area = \" + '0.8155' + \")\")\n",
        "plt.plot(fpr4, tpr4, label= \"Asian (area = \" + '0.7846' + \")\")\n",
        "\n",
        "plt.legend();\n",
        "plt.xlabel(\"False Positive Rate\");\n",
        "plt.ylabel(\"True Positive Rate\");\n",
        "plt.title('Receiver Operating Characteristic');\n",
        "plt.rcParams[\"figure.figsize\"] = (10,10);\n",
        "plt.show();"
      ],
      "execution_count": null,
      "outputs": [
        {
          "output_type": "display_data",
          "data": {
            "image/png": "[encoded data removed]",
            "text/plain": [
              "<Figure size 720x720 with 1 Axes>"
            ]
          },
          "metadata": {
            "tags": []
          }
        }
      ]
    },
    {
      "cell_type": "code",
      "metadata": {
        "id": "UpHnFJ2T98Iw"
      },
      "source": [
        ""
      ],
      "execution_count": null,
      "outputs": []
    }
  ]
}