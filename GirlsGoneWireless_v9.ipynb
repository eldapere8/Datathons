{
  "nbformat": 4,
  "nbformat_minor": 0,
  "metadata": {
    "accelerator": "GPU",
    "colab": {
      "name": "GirlsGoneWireless_v9.ipynb",
      "provenance": [],
      "collapsed_sections": [],
      "toc_visible": true
    },
    "kernelspec": {
      "display_name": "Python 3",
      "name": "python3"
    }
  },
  "cells": [
    {
      "cell_type": "markdown",
      "metadata": {
        "id": "t1jBkpjDT3NM"
      },
      "source": [
        "# WIDS Datathon 2021: Predicting Diabetes \n",
        "By *GirlsGoneWireless*: Ana Parra Vera   |   Elda Pere\n"
      ]
    },
    {
      "cell_type": "markdown",
      "metadata": {
        "id": "h2yibCb6Ew3U"
      },
      "source": [
        "## ✏️ Pre-processing"
      ]
    },
    {
      "cell_type": "markdown",
      "metadata": {
        "id": "7jpwSYoNFBi4"
      },
      "source": [
        "### Import Libraries"
      ]
    },
    {
      "cell_type": "code",
      "metadata": {
        "colab": {
          "base_uri": "https://localhost:8080/"
        },
        "id": "T2mLfzxfhRxe",
        "outputId": "a0672d12-44ad-4061-fe65-40e7a77870aa"
      },
      "source": [
        "pip install octopus-ml"
      ],
      "execution_count": null,
      "outputs": [
        {
          "output_type": "stream",
          "text": [
            "Requirement already satisfied: octopus-ml in /usr/local/lib/python3.7/dist-packages (0.1.6)\n",
            "Requirement already satisfied: lightgbm in /usr/local/lib/python3.7/dist-packages (from octopus-ml) (2.2.3)\n",
            "Requirement already satisfied: seaborn in /usr/local/lib/python3.7/dist-packages (from octopus-ml) (0.11.1)\n",
            "Requirement already satisfied: tqdm in /usr/local/lib/python3.7/dist-packages (from octopus-ml) (4.41.1)\n",
            "Requirement already satisfied: pandas in /usr/local/lib/python3.7/dist-packages (from octopus-ml) (1.1.5)\n",
            "Requirement already satisfied: numpy in /usr/local/lib/python3.7/dist-packages (from octopus-ml) (1.19.5)\n",
            "Requirement already satisfied: scikit-learn in /usr/local/lib/python3.7/dist-packages (from lightgbm->octopus-ml) (0.22.2.post1)\n",
            "Requirement already satisfied: scipy in /usr/local/lib/python3.7/dist-packages (from lightgbm->octopus-ml) (1.4.1)\n",
            "Requirement already satisfied: matplotlib>=2.2 in /usr/local/lib/python3.7/dist-packages (from seaborn->octopus-ml) (3.2.2)\n",
            "Requirement already satisfied: pytz>=2017.2 in /usr/local/lib/python3.7/dist-packages (from pandas->octopus-ml) (2018.9)\n",
            "Requirement already satisfied: python-dateutil>=2.7.3 in /usr/local/lib/python3.7/dist-packages (from pandas->octopus-ml) (2.8.1)\n",
            "Requirement already satisfied: joblib>=0.11 in /usr/local/lib/python3.7/dist-packages (from scikit-learn->lightgbm->octopus-ml) (1.0.1)\n",
            "Requirement already satisfied: kiwisolver>=1.0.1 in /usr/local/lib/python3.7/dist-packages (from matplotlib>=2.2->seaborn->octopus-ml) (1.3.1)\n",
            "Requirement already satisfied: pyparsing!=2.0.4,!=2.1.2,!=2.1.6,>=2.0.1 in /usr/local/lib/python3.7/dist-packages (from matplotlib>=2.2->seaborn->octopus-ml) (2.4.7)\n",
            "Requirement already satisfied: cycler>=0.10 in /usr/local/lib/python3.7/dist-packages (from matplotlib>=2.2->seaborn->octopus-ml) (0.10.0)\n",
            "Requirement already satisfied: six>=1.5 in /usr/local/lib/python3.7/dist-packages (from python-dateutil>=2.7.3->pandas->octopus-ml) (1.15.0)\n"
          ],
          "name": "stdout"
        }
      ]
    },
    {
      "cell_type": "code",
      "metadata": {
        "id": "T52YEBZGPYYZ"
      },
      "source": [
        "import pandas as pd\n",
        "import numpy as np\n",
        "from google.colab import (drive, files)\n",
        "from datetime import datetime, timedelta\n",
        "import os\n",
        "import matplotlib.pyplot as plt\n",
        "import seaborn as sns\n",
        "import octopus_ml as oc\n",
        "\n",
        "from sklearn.model_selection import train_test_split\n",
        "from sklearn.pipeline import Pipeline\n",
        "from sklearn.compose import ColumnTransformer\n",
        "from sklearn.preprocessing import StandardScaler, LabelEncoder, OneHotEncoder\n",
        "from sklearn.feature_extraction.text import CountVectorizer\n",
        "from sklearn.experimental import enable_iterative_imputer\n",
        "from sklearn.impute import IterativeImputer, SimpleImputer\n",
        "from sklearn.linear_model import LogisticRegression, LogisticRegressionCV\n",
        "from sklearn.metrics import classification_report, roc_auc_score, roc_curve\n",
        "\n",
        "from sklearn.model_selection import cross_val_score\n",
        "from sklearn.model_selection import RepeatedStratifiedKFold\n",
        "from sklearn.decomposition import PCA\n",
        "from sklearn.linear_model import LogisticRegression\n",
        "from matplotlib import pyplot"
      ],
      "execution_count": null,
      "outputs": []
    },
    {
      "cell_type": "code",
      "metadata": {
        "colab": {
          "base_uri": "https://localhost:8080/"
        },
        "id": "7yhTLQhxPadf",
        "outputId": "21dc3dcb-2fb6-44c3-a5d1-a6a7911035b0"
      },
      "source": [
        "# connect to the drive\n",
        "drive.mount('/content/gdrive', force_remount=True)\n",
        "path = \"/content/gdrive\"\n",
        "os.chdir(path)"
      ],
      "execution_count": null,
      "outputs": [
        {
          "output_type": "stream",
          "text": [
            "Mounted at /content/gdrive\n"
          ],
          "name": "stdout"
        }
      ]
    },
    {
      "cell_type": "code",
      "metadata": {
        "colab": {
          "base_uri": "https://localhost:8080/"
        },
        "id": "ISzNS2xFAxlb",
        "outputId": "a2dadd4e-3bb4-44bf-db56-68cdf3a1b1b7"
      },
      "source": [
        "# ana\n",
        "% ls MyDrive/Data\\ Science/WIDS\\ Datathon/DATA"
      ],
      "execution_count": null,
      "outputs": [
        {
          "output_type": "stream",
          "text": [
            "ls: cannot access 'MyDrive/Data Science/WIDS Datathon/DATA': No such file or directory\n"
          ],
          "name": "stdout"
        }
      ]
    },
    {
      "cell_type": "code",
      "metadata": {
        "colab": {
          "base_uri": "https://localhost:8080/"
        },
        "id": "wf9HA1cIPseO",
        "outputId": "74803af3-4213-4096-94a0-7a00622f3a36"
      },
      "source": [
        "# elda\n",
        "% ls MyDrive/Projects/WIDS\\ Datathon"
      ],
      "execution_count": null,
      "outputs": [
        {
          "output_type": "stream",
          "text": [
            " \u001b[0m\u001b[01;34mDATA\u001b[0m/\n",
            " DataDictionaryWiDS2021.gsheet\n",
            " GirlsGoneWireless_v4.ipynb\n",
            " GirlsGoneWireless_v5.ipynb\n",
            " GirlsGoneWireless_v6.ipynb\n",
            " GirlsGoneWireless_v7.ipynb\n",
            " GirlsGoneWireless_v8.ipynb\n",
            " GirlsGoneWireless_v9.ipynb\n",
            " Notes.gdoc\n",
            "\u001b[01;34m'Prev Notebooks'\u001b[0m/\n",
            " Research.gdoc\n",
            " TrainTestSplitAndCrossValidation.ipynb\n",
            "'Webinar Notes.gdoc'\n",
            " wids2021-initial-eda-and-tuned-lgbm-0-86269.ipynb\n",
            "'WIDs changes.gsheet'\n",
            " wids_eda.html\n",
            " WIDS_EDA.ipynb\n"
          ],
          "name": "stdout"
        }
      ]
    },
    {
      "cell_type": "code",
      "metadata": {
        "id": "0UxZCMw6Pjuo"
      },
      "source": [
        "## choose appropriate path and uncomment below\n",
        "\n",
        "filepath = 'MyDrive/Projects/WIDS Datathon/DATA/'\n",
        "# filepath = 'MyDrive/Data Science/WIDS Datathon/DATA/'"
      ],
      "execution_count": null,
      "outputs": []
    },
    {
      "cell_type": "markdown",
      "metadata": {
        "id": "1M6upY_2g5i4"
      },
      "source": [
        "### Read the Data"
      ]
    },
    {
      "cell_type": "code",
      "metadata": {
        "id": "pP89_cf9PjsE"
      },
      "source": [
        "wids_train_df = pd.read_csv(filepath+'TrainingWiDS2021.csv',index_col=0)"
      ],
      "execution_count": null,
      "outputs": []
    },
    {
      "cell_type": "code",
      "metadata": {
        "id": "F65PNAkDUspO"
      },
      "source": [
        "wids_test_df = pd.read_csv(filepath+'UnlabeledWiDS2021.csv',index_col=0)"
      ],
      "execution_count": null,
      "outputs": []
    },
    {
      "cell_type": "markdown",
      "metadata": {
        "id": "2kVIXIApT2AH"
      },
      "source": [
        "### Data Preview"
      ]
    },
    {
      "cell_type": "code",
      "metadata": {
        "colab": {
          "base_uri": "https://localhost:8080/"
        },
        "id": "Yok4DWWHWFeH",
        "outputId": "e16a99a2-006e-431b-de8b-196af70ab0a5"
      },
      "source": [
        "# checking the columns are the same in the train and test dfs\n",
        "test_cols = wids_test_df.columns.tolist()\n",
        "train_cols = wids_train_df.columns.tolist()\n",
        "train_cols.remove('diabetes_mellitus')\n",
        "\n",
        "# sanity check\n",
        "train_cols == test_cols"
      ],
      "execution_count": null,
      "outputs": [
        {
          "output_type": "execute_result",
          "data": {
            "text/plain": [
              "True"
            ]
          },
          "metadata": {
            "tags": []
          },
          "execution_count": 7
        }
      ]
    },
    {
      "cell_type": "code",
      "metadata": {
        "colab": {
          "base_uri": "https://localhost:8080/"
        },
        "id": "xsdRcMHpQljC",
        "outputId": "de363d4d-def9-4ff0-fe75-d88b367cbf9a"
      },
      "source": [
        "# we should see 130,157 encounters represented here\n",
        "wids_train_df.shape"
      ],
      "execution_count": null,
      "outputs": [
        {
          "output_type": "execute_result",
          "data": {
            "text/plain": [
              "(130157, 180)"
            ]
          },
          "metadata": {
            "tags": []
          },
          "execution_count": 8
        }
      ]
    },
    {
      "cell_type": "code",
      "metadata": {
        "colab": {
          "base_uri": "https://localhost:8080/",
          "height": 321
        },
        "id": "CcDlrHWqUKRP",
        "outputId": "c945f744-4258-46a5-b38b-377693ce62b8"
      },
      "source": [
        "# preview of the data\n",
        "wids_train_df.head()"
      ],
      "execution_count": null,
      "outputs": [
        {
          "output_type": "execute_result",
          "data": {
            "text/html": [
              "<div>\n",
              "<style scoped>\n",
              "    .dataframe tbody tr th:only-of-type {\n",
              "        vertical-align: middle;\n",
              "    }\n",
              "\n",
              "    .dataframe tbody tr th {\n",
              "        vertical-align: top;\n",
              "    }\n",
              "\n",
              "    .dataframe thead th {\n",
              "        text-align: right;\n",
              "    }\n",
              "</style>\n",
              "<table border=\"1\" class=\"dataframe\">\n",
              "  <thead>\n",
              "    <tr style=\"text-align: right;\">\n",
              "      <th></th>\n",
              "      <th>encounter_id</th>\n",
              "      <th>hospital_id</th>\n",
              "      <th>age</th>\n",
              "      <th>bmi</th>\n",
              "      <th>elective_surgery</th>\n",
              "      <th>ethnicity</th>\n",
              "      <th>gender</th>\n",
              "      <th>height</th>\n",
              "      <th>hospital_admit_source</th>\n",
              "      <th>icu_admit_source</th>\n",
              "      <th>icu_id</th>\n",
              "      <th>icu_stay_type</th>\n",
              "      <th>icu_type</th>\n",
              "      <th>pre_icu_los_days</th>\n",
              "      <th>readmission_status</th>\n",
              "      <th>weight</th>\n",
              "      <th>albumin_apache</th>\n",
              "      <th>apache_2_diagnosis</th>\n",
              "      <th>apache_3j_diagnosis</th>\n",
              "      <th>apache_post_operative</th>\n",
              "      <th>arf_apache</th>\n",
              "      <th>bilirubin_apache</th>\n",
              "      <th>bun_apache</th>\n",
              "      <th>creatinine_apache</th>\n",
              "      <th>fio2_apache</th>\n",
              "      <th>gcs_eyes_apache</th>\n",
              "      <th>gcs_motor_apache</th>\n",
              "      <th>gcs_unable_apache</th>\n",
              "      <th>gcs_verbal_apache</th>\n",
              "      <th>glucose_apache</th>\n",
              "      <th>heart_rate_apache</th>\n",
              "      <th>hematocrit_apache</th>\n",
              "      <th>intubated_apache</th>\n",
              "      <th>map_apache</th>\n",
              "      <th>paco2_apache</th>\n",
              "      <th>paco2_for_ph_apache</th>\n",
              "      <th>pao2_apache</th>\n",
              "      <th>ph_apache</th>\n",
              "      <th>resprate_apache</th>\n",
              "      <th>sodium_apache</th>\n",
              "      <th>...</th>\n",
              "      <th>h1_hemaglobin_max</th>\n",
              "      <th>h1_hemaglobin_min</th>\n",
              "      <th>h1_hematocrit_max</th>\n",
              "      <th>h1_hematocrit_min</th>\n",
              "      <th>h1_inr_max</th>\n",
              "      <th>h1_inr_min</th>\n",
              "      <th>h1_lactate_max</th>\n",
              "      <th>h1_lactate_min</th>\n",
              "      <th>h1_platelets_max</th>\n",
              "      <th>h1_platelets_min</th>\n",
              "      <th>h1_potassium_max</th>\n",
              "      <th>h1_potassium_min</th>\n",
              "      <th>h1_sodium_max</th>\n",
              "      <th>h1_sodium_min</th>\n",
              "      <th>h1_wbc_max</th>\n",
              "      <th>h1_wbc_min</th>\n",
              "      <th>d1_arterial_pco2_max</th>\n",
              "      <th>d1_arterial_pco2_min</th>\n",
              "      <th>d1_arterial_ph_max</th>\n",
              "      <th>d1_arterial_ph_min</th>\n",
              "      <th>d1_arterial_po2_max</th>\n",
              "      <th>d1_arterial_po2_min</th>\n",
              "      <th>d1_pao2fio2ratio_max</th>\n",
              "      <th>d1_pao2fio2ratio_min</th>\n",
              "      <th>h1_arterial_pco2_max</th>\n",
              "      <th>h1_arterial_pco2_min</th>\n",
              "      <th>h1_arterial_ph_max</th>\n",
              "      <th>h1_arterial_ph_min</th>\n",
              "      <th>h1_arterial_po2_max</th>\n",
              "      <th>h1_arterial_po2_min</th>\n",
              "      <th>h1_pao2fio2ratio_max</th>\n",
              "      <th>h1_pao2fio2ratio_min</th>\n",
              "      <th>aids</th>\n",
              "      <th>cirrhosis</th>\n",
              "      <th>hepatic_failure</th>\n",
              "      <th>immunosuppression</th>\n",
              "      <th>leukemia</th>\n",
              "      <th>lymphoma</th>\n",
              "      <th>solid_tumor_with_metastasis</th>\n",
              "      <th>diabetes_mellitus</th>\n",
              "    </tr>\n",
              "  </thead>\n",
              "  <tbody>\n",
              "    <tr>\n",
              "      <th>1</th>\n",
              "      <td>214826</td>\n",
              "      <td>118</td>\n",
              "      <td>68.0</td>\n",
              "      <td>22.732803</td>\n",
              "      <td>0</td>\n",
              "      <td>Caucasian</td>\n",
              "      <td>M</td>\n",
              "      <td>180.3</td>\n",
              "      <td>Floor</td>\n",
              "      <td>Floor</td>\n",
              "      <td>92</td>\n",
              "      <td>admit</td>\n",
              "      <td>CTICU</td>\n",
              "      <td>0.541667</td>\n",
              "      <td>0</td>\n",
              "      <td>73.9</td>\n",
              "      <td>2.3</td>\n",
              "      <td>113.0</td>\n",
              "      <td>502.01</td>\n",
              "      <td>0</td>\n",
              "      <td>0</td>\n",
              "      <td>0.4</td>\n",
              "      <td>31.0</td>\n",
              "      <td>2.51</td>\n",
              "      <td>NaN</td>\n",
              "      <td>3.0</td>\n",
              "      <td>6.0</td>\n",
              "      <td>0.0</td>\n",
              "      <td>4.0</td>\n",
              "      <td>168.0</td>\n",
              "      <td>118.0</td>\n",
              "      <td>27.4</td>\n",
              "      <td>0</td>\n",
              "      <td>40.0</td>\n",
              "      <td>NaN</td>\n",
              "      <td>NaN</td>\n",
              "      <td>NaN</td>\n",
              "      <td>NaN</td>\n",
              "      <td>36.0</td>\n",
              "      <td>134.0</td>\n",
              "      <td>...</td>\n",
              "      <td>NaN</td>\n",
              "      <td>NaN</td>\n",
              "      <td>NaN</td>\n",
              "      <td>NaN</td>\n",
              "      <td>NaN</td>\n",
              "      <td>NaN</td>\n",
              "      <td>NaN</td>\n",
              "      <td>NaN</td>\n",
              "      <td>NaN</td>\n",
              "      <td>NaN</td>\n",
              "      <td>NaN</td>\n",
              "      <td>NaN</td>\n",
              "      <td>NaN</td>\n",
              "      <td>NaN</td>\n",
              "      <td>NaN</td>\n",
              "      <td>NaN</td>\n",
              "      <td>NaN</td>\n",
              "      <td>NaN</td>\n",
              "      <td>NaN</td>\n",
              "      <td>NaN</td>\n",
              "      <td>NaN</td>\n",
              "      <td>NaN</td>\n",
              "      <td>NaN</td>\n",
              "      <td>NaN</td>\n",
              "      <td>NaN</td>\n",
              "      <td>NaN</td>\n",
              "      <td>NaN</td>\n",
              "      <td>NaN</td>\n",
              "      <td>NaN</td>\n",
              "      <td>NaN</td>\n",
              "      <td>NaN</td>\n",
              "      <td>NaN</td>\n",
              "      <td>0</td>\n",
              "      <td>0</td>\n",
              "      <td>0</td>\n",
              "      <td>0</td>\n",
              "      <td>0</td>\n",
              "      <td>0</td>\n",
              "      <td>0</td>\n",
              "      <td>1</td>\n",
              "    </tr>\n",
              "    <tr>\n",
              "      <th>2</th>\n",
              "      <td>246060</td>\n",
              "      <td>81</td>\n",
              "      <td>77.0</td>\n",
              "      <td>27.421875</td>\n",
              "      <td>0</td>\n",
              "      <td>Caucasian</td>\n",
              "      <td>F</td>\n",
              "      <td>160.0</td>\n",
              "      <td>Floor</td>\n",
              "      <td>Floor</td>\n",
              "      <td>90</td>\n",
              "      <td>admit</td>\n",
              "      <td>Med-Surg ICU</td>\n",
              "      <td>0.927778</td>\n",
              "      <td>0</td>\n",
              "      <td>70.2</td>\n",
              "      <td>NaN</td>\n",
              "      <td>108.0</td>\n",
              "      <td>203.01</td>\n",
              "      <td>0</td>\n",
              "      <td>0</td>\n",
              "      <td>NaN</td>\n",
              "      <td>9.0</td>\n",
              "      <td>0.56</td>\n",
              "      <td>1.0</td>\n",
              "      <td>1.0</td>\n",
              "      <td>3.0</td>\n",
              "      <td>0.0</td>\n",
              "      <td>1.0</td>\n",
              "      <td>145.0</td>\n",
              "      <td>120.0</td>\n",
              "      <td>36.9</td>\n",
              "      <td>0</td>\n",
              "      <td>46.0</td>\n",
              "      <td>37.0</td>\n",
              "      <td>37.0</td>\n",
              "      <td>51.0</td>\n",
              "      <td>7.45</td>\n",
              "      <td>33.0</td>\n",
              "      <td>145.0</td>\n",
              "      <td>...</td>\n",
              "      <td>11.3</td>\n",
              "      <td>11.3</td>\n",
              "      <td>36.9</td>\n",
              "      <td>36.9</td>\n",
              "      <td>1.3</td>\n",
              "      <td>1.3</td>\n",
              "      <td>3.5</td>\n",
              "      <td>3.5</td>\n",
              "      <td>557.0</td>\n",
              "      <td>557.0</td>\n",
              "      <td>4.2</td>\n",
              "      <td>4.2</td>\n",
              "      <td>145.0</td>\n",
              "      <td>145.0</td>\n",
              "      <td>12.7</td>\n",
              "      <td>12.7</td>\n",
              "      <td>37.0</td>\n",
              "      <td>37.0</td>\n",
              "      <td>7.45</td>\n",
              "      <td>7.45</td>\n",
              "      <td>51.0</td>\n",
              "      <td>51.0</td>\n",
              "      <td>54.8</td>\n",
              "      <td>51.000000</td>\n",
              "      <td>37.0</td>\n",
              "      <td>37.0</td>\n",
              "      <td>7.45</td>\n",
              "      <td>7.45</td>\n",
              "      <td>51.0</td>\n",
              "      <td>51.0</td>\n",
              "      <td>51.0</td>\n",
              "      <td>51.0</td>\n",
              "      <td>0</td>\n",
              "      <td>0</td>\n",
              "      <td>0</td>\n",
              "      <td>0</td>\n",
              "      <td>0</td>\n",
              "      <td>0</td>\n",
              "      <td>0</td>\n",
              "      <td>1</td>\n",
              "    </tr>\n",
              "    <tr>\n",
              "      <th>3</th>\n",
              "      <td>276985</td>\n",
              "      <td>118</td>\n",
              "      <td>25.0</td>\n",
              "      <td>31.952749</td>\n",
              "      <td>0</td>\n",
              "      <td>Caucasian</td>\n",
              "      <td>F</td>\n",
              "      <td>172.7</td>\n",
              "      <td>Emergency Department</td>\n",
              "      <td>Accident &amp; Emergency</td>\n",
              "      <td>93</td>\n",
              "      <td>admit</td>\n",
              "      <td>Med-Surg ICU</td>\n",
              "      <td>0.000694</td>\n",
              "      <td>0</td>\n",
              "      <td>95.3</td>\n",
              "      <td>NaN</td>\n",
              "      <td>122.0</td>\n",
              "      <td>703.03</td>\n",
              "      <td>0</td>\n",
              "      <td>0</td>\n",
              "      <td>NaN</td>\n",
              "      <td>NaN</td>\n",
              "      <td>NaN</td>\n",
              "      <td>NaN</td>\n",
              "      <td>3.0</td>\n",
              "      <td>6.0</td>\n",
              "      <td>0.0</td>\n",
              "      <td>5.0</td>\n",
              "      <td>NaN</td>\n",
              "      <td>102.0</td>\n",
              "      <td>NaN</td>\n",
              "      <td>0</td>\n",
              "      <td>68.0</td>\n",
              "      <td>NaN</td>\n",
              "      <td>NaN</td>\n",
              "      <td>NaN</td>\n",
              "      <td>NaN</td>\n",
              "      <td>37.0</td>\n",
              "      <td>NaN</td>\n",
              "      <td>...</td>\n",
              "      <td>NaN</td>\n",
              "      <td>NaN</td>\n",
              "      <td>NaN</td>\n",
              "      <td>NaN</td>\n",
              "      <td>NaN</td>\n",
              "      <td>NaN</td>\n",
              "      <td>NaN</td>\n",
              "      <td>NaN</td>\n",
              "      <td>NaN</td>\n",
              "      <td>NaN</td>\n",
              "      <td>NaN</td>\n",
              "      <td>NaN</td>\n",
              "      <td>NaN</td>\n",
              "      <td>NaN</td>\n",
              "      <td>NaN</td>\n",
              "      <td>NaN</td>\n",
              "      <td>NaN</td>\n",
              "      <td>NaN</td>\n",
              "      <td>NaN</td>\n",
              "      <td>NaN</td>\n",
              "      <td>NaN</td>\n",
              "      <td>NaN</td>\n",
              "      <td>NaN</td>\n",
              "      <td>NaN</td>\n",
              "      <td>NaN</td>\n",
              "      <td>NaN</td>\n",
              "      <td>NaN</td>\n",
              "      <td>NaN</td>\n",
              "      <td>NaN</td>\n",
              "      <td>NaN</td>\n",
              "      <td>NaN</td>\n",
              "      <td>NaN</td>\n",
              "      <td>0</td>\n",
              "      <td>0</td>\n",
              "      <td>0</td>\n",
              "      <td>0</td>\n",
              "      <td>0</td>\n",
              "      <td>0</td>\n",
              "      <td>0</td>\n",
              "      <td>0</td>\n",
              "    </tr>\n",
              "    <tr>\n",
              "      <th>4</th>\n",
              "      <td>262220</td>\n",
              "      <td>118</td>\n",
              "      <td>81.0</td>\n",
              "      <td>22.635548</td>\n",
              "      <td>1</td>\n",
              "      <td>Caucasian</td>\n",
              "      <td>F</td>\n",
              "      <td>165.1</td>\n",
              "      <td>Operating Room</td>\n",
              "      <td>Operating Room / Recovery</td>\n",
              "      <td>92</td>\n",
              "      <td>admit</td>\n",
              "      <td>CTICU</td>\n",
              "      <td>0.000694</td>\n",
              "      <td>0</td>\n",
              "      <td>61.7</td>\n",
              "      <td>NaN</td>\n",
              "      <td>203.0</td>\n",
              "      <td>1206.03</td>\n",
              "      <td>1</td>\n",
              "      <td>0</td>\n",
              "      <td>NaN</td>\n",
              "      <td>NaN</td>\n",
              "      <td>NaN</td>\n",
              "      <td>0.6</td>\n",
              "      <td>4.0</td>\n",
              "      <td>6.0</td>\n",
              "      <td>0.0</td>\n",
              "      <td>5.0</td>\n",
              "      <td>185.0</td>\n",
              "      <td>114.0</td>\n",
              "      <td>25.9</td>\n",
              "      <td>1</td>\n",
              "      <td>60.0</td>\n",
              "      <td>30.0</td>\n",
              "      <td>30.0</td>\n",
              "      <td>142.0</td>\n",
              "      <td>7.39</td>\n",
              "      <td>4.0</td>\n",
              "      <td>NaN</td>\n",
              "      <td>...</td>\n",
              "      <td>11.6</td>\n",
              "      <td>11.6</td>\n",
              "      <td>34.0</td>\n",
              "      <td>34.0</td>\n",
              "      <td>1.6</td>\n",
              "      <td>1.1</td>\n",
              "      <td>NaN</td>\n",
              "      <td>NaN</td>\n",
              "      <td>43.0</td>\n",
              "      <td>43.0</td>\n",
              "      <td>NaN</td>\n",
              "      <td>NaN</td>\n",
              "      <td>NaN</td>\n",
              "      <td>NaN</td>\n",
              "      <td>8.8</td>\n",
              "      <td>8.8</td>\n",
              "      <td>37.0</td>\n",
              "      <td>27.0</td>\n",
              "      <td>7.44</td>\n",
              "      <td>7.34</td>\n",
              "      <td>337.0</td>\n",
              "      <td>102.0</td>\n",
              "      <td>342.5</td>\n",
              "      <td>236.666667</td>\n",
              "      <td>36.0</td>\n",
              "      <td>33.0</td>\n",
              "      <td>7.37</td>\n",
              "      <td>7.34</td>\n",
              "      <td>337.0</td>\n",
              "      <td>265.0</td>\n",
              "      <td>337.0</td>\n",
              "      <td>337.0</td>\n",
              "      <td>0</td>\n",
              "      <td>0</td>\n",
              "      <td>0</td>\n",
              "      <td>0</td>\n",
              "      <td>0</td>\n",
              "      <td>0</td>\n",
              "      <td>0</td>\n",
              "      <td>0</td>\n",
              "    </tr>\n",
              "    <tr>\n",
              "      <th>5</th>\n",
              "      <td>201746</td>\n",
              "      <td>33</td>\n",
              "      <td>19.0</td>\n",
              "      <td>NaN</td>\n",
              "      <td>0</td>\n",
              "      <td>Caucasian</td>\n",
              "      <td>M</td>\n",
              "      <td>188.0</td>\n",
              "      <td>NaN</td>\n",
              "      <td>Accident &amp; Emergency</td>\n",
              "      <td>91</td>\n",
              "      <td>admit</td>\n",
              "      <td>Med-Surg ICU</td>\n",
              "      <td>0.073611</td>\n",
              "      <td>0</td>\n",
              "      <td>NaN</td>\n",
              "      <td>NaN</td>\n",
              "      <td>119.0</td>\n",
              "      <td>601.01</td>\n",
              "      <td>0</td>\n",
              "      <td>0</td>\n",
              "      <td>NaN</td>\n",
              "      <td>NaN</td>\n",
              "      <td>NaN</td>\n",
              "      <td>NaN</td>\n",
              "      <td>NaN</td>\n",
              "      <td>NaN</td>\n",
              "      <td>NaN</td>\n",
              "      <td>NaN</td>\n",
              "      <td>NaN</td>\n",
              "      <td>60.0</td>\n",
              "      <td>NaN</td>\n",
              "      <td>0</td>\n",
              "      <td>103.0</td>\n",
              "      <td>NaN</td>\n",
              "      <td>NaN</td>\n",
              "      <td>NaN</td>\n",
              "      <td>NaN</td>\n",
              "      <td>16.0</td>\n",
              "      <td>NaN</td>\n",
              "      <td>...</td>\n",
              "      <td>NaN</td>\n",
              "      <td>NaN</td>\n",
              "      <td>NaN</td>\n",
              "      <td>NaN</td>\n",
              "      <td>NaN</td>\n",
              "      <td>NaN</td>\n",
              "      <td>NaN</td>\n",
              "      <td>NaN</td>\n",
              "      <td>NaN</td>\n",
              "      <td>NaN</td>\n",
              "      <td>NaN</td>\n",
              "      <td>NaN</td>\n",
              "      <td>NaN</td>\n",
              "      <td>NaN</td>\n",
              "      <td>NaN</td>\n",
              "      <td>NaN</td>\n",
              "      <td>NaN</td>\n",
              "      <td>NaN</td>\n",
              "      <td>NaN</td>\n",
              "      <td>NaN</td>\n",
              "      <td>NaN</td>\n",
              "      <td>NaN</td>\n",
              "      <td>NaN</td>\n",
              "      <td>NaN</td>\n",
              "      <td>NaN</td>\n",
              "      <td>NaN</td>\n",
              "      <td>NaN</td>\n",
              "      <td>NaN</td>\n",
              "      <td>NaN</td>\n",
              "      <td>NaN</td>\n",
              "      <td>NaN</td>\n",
              "      <td>NaN</td>\n",
              "      <td>0</td>\n",
              "      <td>0</td>\n",
              "      <td>0</td>\n",
              "      <td>0</td>\n",
              "      <td>0</td>\n",
              "      <td>0</td>\n",
              "      <td>0</td>\n",
              "      <td>0</td>\n",
              "    </tr>\n",
              "  </tbody>\n",
              "</table>\n",
              "<p>5 rows × 180 columns</p>\n",
              "</div>"
            ],
            "text/plain": [
              "   encounter_id  hospital_id  ...  solid_tumor_with_metastasis  diabetes_mellitus\n",
              "1        214826          118  ...                            0                  1\n",
              "2        246060           81  ...                            0                  1\n",
              "3        276985          118  ...                            0                  0\n",
              "4        262220          118  ...                            0                  0\n",
              "5        201746           33  ...                            0                  0\n",
              "\n",
              "[5 rows x 180 columns]"
            ]
          },
          "metadata": {
            "tags": []
          },
          "execution_count": 9
        }
      ]
    },
    {
      "cell_type": "markdown",
      "metadata": {
        "id": "RHoXtfbIb0I1"
      },
      "source": [
        "## 📊 EDA\n"
      ]
    },
    {
      "cell_type": "code",
      "metadata": {
        "colab": {
          "base_uri": "https://localhost:8080/",
          "height": 297
        },
        "id": "jz3bv74WcUUW",
        "outputId": "f7f953c2-e198-443b-cbff-c5798462bcc2"
      },
      "source": [
        "# distribution of target class (diabetes_mellitus)\n",
        "sns.countplot(x=\"diabetes_mellitus\", data=wids_train_df, hue=\"diabetes_mellitus\")"
      ],
      "execution_count": null,
      "outputs": [
        {
          "output_type": "execute_result",
          "data": {
            "text/plain": [
              "<matplotlib.axes._subplots.AxesSubplot at 0x7fb8f7ee7e90>"
            ]
          },
          "metadata": {
            "tags": []
          },
          "execution_count": 10
        },
        {
          "output_type": "display_data",
          "data": {
            "image/png": "[encoded data removed]",
            "text/plain": [
              "<Figure size 432x288 with 1 Axes>"
            ]
          },
          "metadata": {
            "tags": [],
            "needs_background": "light"
          }
        }
      ]
    },
    {
      "cell_type": "code",
      "metadata": {
        "colab": {
          "base_uri": "https://localhost:8080/",
          "height": 261
        },
        "id": "y5EO0RcMUJxI",
        "outputId": "219ff725-5f88-483e-bcb3-307373c62f5e"
      },
      "source": [
        "plt.figure(figsize=(8,3))\n",
        "\n",
        "plt.title('Distribution of Diabetes class')\n",
        "plt.ylabel('Count')\n",
        "\n",
        "# create barplot based on counts of diabetes class\n",
        "ax = (wids_train_df.diabetes_mellitus.value_counts()).sort_index().plot(kind=\"bar\", rot=0)\n",
        "\n",
        "ax2 = ax.twinx()\n",
        "sns.despine(right=True) # remove right y-axis\n",
        "ax2.set_yticks([]) # remove right y ticks\n",
        "ax.set_xticklabels(['No Diabetes', 'Diabetes'])\n",
        "\n",
        "# add count numbers to the top of each bar\n",
        "for p in ax.patches:\n",
        "    ax.annotate('{:d}'.format(p.get_height()+5), (p.get_x()+0.2, p.get_height()+4))"
      ],
      "execution_count": null,
      "outputs": [
        {
          "output_type": "execute_result",
          "data": {
            "text/plain": [
              "<Figure size 576x216 with 0 Axes>"
            ]
          },
          "metadata": {
            "tags": []
          },
          "execution_count": 11
        },
        {
          "output_type": "execute_result",
          "data": {
            "text/plain": [
              "Text(0.5, 1.0, 'Distribution of Diabetes class')"
            ]
          },
          "metadata": {
            "tags": []
          },
          "execution_count": 11
        },
        {
          "output_type": "execute_result",
          "data": {
            "text/plain": [
              "Text(0, 0.5, 'Count')"
            ]
          },
          "metadata": {
            "tags": []
          },
          "execution_count": 11
        },
        {
          "output_type": "execute_result",
          "data": {
            "text/plain": [
              "[]"
            ]
          },
          "metadata": {
            "tags": []
          },
          "execution_count": 11
        },
        {
          "output_type": "execute_result",
          "data": {
            "text/plain": [
              "[Text(0, 0, 'No Diabetes'), Text(0, 0, 'Diabetes')]"
            ]
          },
          "metadata": {
            "tags": []
          },
          "execution_count": 11
        },
        {
          "output_type": "execute_result",
          "data": {
            "text/plain": [
              "Text(-0.04999999999999999, 102010, '102011')"
            ]
          },
          "metadata": {
            "tags": []
          },
          "execution_count": 11
        },
        {
          "output_type": "execute_result",
          "data": {
            "text/plain": [
              "Text(0.95, 28155, '28156')"
            ]
          },
          "metadata": {
            "tags": []
          },
          "execution_count": 11
        },
        {
          "output_type": "display_data",
          "data": {
            "image/png": "[encoded data removed]",
            "text/plain": [
              "<Figure size 576x216 with 2 Axes>"
            ]
          },
          "metadata": {
            "tags": [],
            "needs_background": "light"
          }
        }
      ]
    },
    {
      "cell_type": "code",
      "metadata": {
        "colab": {
          "base_uri": "https://localhost:8080/",
          "height": 296
        },
        "id": "Y9x0Ywn7e70q",
        "outputId": "0c75d220-091f-4717-9396-451888e64125"
      },
      "source": [
        "# distribution of ethnicity\n",
        "plt.figure(figsize=(10,4))\n",
        "sns.countplot(x=\"ethnicity\", data=wids_train_df, hue=\"diabetes_mellitus\")"
      ],
      "execution_count": null,
      "outputs": [
        {
          "output_type": "execute_result",
          "data": {
            "text/plain": [
              "<Figure size 720x288 with 0 Axes>"
            ]
          },
          "metadata": {
            "tags": []
          },
          "execution_count": 12
        },
        {
          "output_type": "execute_result",
          "data": {
            "text/plain": [
              "<matplotlib.axes._subplots.AxesSubplot at 0x7fb8f6bea650>"
            ]
          },
          "metadata": {
            "tags": []
          },
          "execution_count": 12
        },
        {
          "output_type": "display_data",
          "data": {
            "image/png": "[encoded data removed]",
            "text/plain": [
              "<Figure size 720x288 with 1 Axes>"
            ]
          },
          "metadata": {
            "tags": [],
            "needs_background": "light"
          }
        }
      ]
    },
    {
      "cell_type": "code",
      "metadata": {
        "id": "-uSR21Hcg8CB"
      },
      "source": [
        "def plot_var_counts(df, col, title=None):\n",
        "  \"\"\"\n",
        "  Plotting distributions for cases with diabetes vs. cases with no diabetes.\n",
        "  \"\"\"\n",
        "  plt.figure(figsize=(8,3))\n",
        "\n",
        "  # create each plot\n",
        "  sns.distplot(df[df.diabetes_mellitus==1][col], kde=False, label=\"Diabetes\")\n",
        "  sns.distplot(df[df.diabetes_mellitus==0][col], kde=False, label=\"No Diabetes\")\n",
        "\n",
        "  # plot formatting\n",
        "  plt.legend()\n",
        "  plot_title = 'Distribution of ' + col.capitalize()\n",
        "  plt.title(plot_title)\n",
        "  plt.ylabel('Count')\n"
      ],
      "execution_count": null,
      "outputs": []
    },
    {
      "cell_type": "code",
      "metadata": {
        "colab": {
          "base_uri": "https://localhost:8080/",
          "height": 241
        },
        "id": "TjNtCLuFTsHO",
        "outputId": "3cd8bf09-548c-4cd9-9531-1d704fe54fd3"
      },
      "source": [
        "plot_var_counts(wids_train_df, 'age')"
      ],
      "execution_count": null,
      "outputs": [
        {
          "output_type": "display_data",
          "data": {
            "image/png": "[encoded data removed]",
            "text/plain": [
              "<Figure size 576x216 with 1 Axes>"
            ]
          },
          "metadata": {
            "tags": [],
            "needs_background": "light"
          }
        }
      ]
    },
    {
      "cell_type": "code",
      "metadata": {
        "colab": {
          "base_uri": "https://localhost:8080/"
        },
        "id": "Bp4EUk3zb2ZH",
        "outputId": "dd82d66a-64e4-4fba-9eb3-595fe7898933"
      },
      "source": [
        "# there are ages of 0 - must be a data error\n",
        "wids_train_df['age'].describe()"
      ],
      "execution_count": null,
      "outputs": [
        {
          "output_type": "execute_result",
          "data": {
            "text/plain": [
              "count    125169.000000\n",
              "mean         61.995103\n",
              "std          16.822880\n",
              "min           0.000000\n",
              "25%          52.000000\n",
              "50%          64.000000\n",
              "75%          75.000000\n",
              "max          89.000000\n",
              "Name: age, dtype: float64"
            ]
          },
          "metadata": {
            "tags": []
          },
          "execution_count": 15
        }
      ]
    },
    {
      "cell_type": "code",
      "metadata": {
        "colab": {
          "base_uri": "https://localhost:8080/"
        },
        "id": "SN4SFx8Ucrh9",
        "outputId": "1c304c97-ad8e-4b2c-90c0-4992ee1cb013"
      },
      "source": [
        "# there are ages of 0 - must be a data error\n",
        "wids_train_df[wids_train_df['age']==0].shape"
      ],
      "execution_count": null,
      "outputs": [
        {
          "output_type": "execute_result",
          "data": {
            "text/plain": [
              "(30, 180)"
            ]
          },
          "metadata": {
            "tags": []
          },
          "execution_count": 16
        }
      ]
    },
    {
      "cell_type": "code",
      "metadata": {
        "colab": {
          "base_uri": "https://localhost:8080/",
          "height": 241
        },
        "id": "pHS4CwH9gCRx",
        "outputId": "ab538771-3d17-493c-9bfc-55d9d234f847"
      },
      "source": [
        "plot_var_counts(wids_train_df, 'bmi')\n"
      ],
      "execution_count": null,
      "outputs": [
        {
          "output_type": "display_data",
          "data": {
            "image/png": "[encoded data removed]",
            "text/plain": [
              "<Figure size 576x216 with 1 Axes>"
            ]
          },
          "metadata": {
            "tags": [],
            "needs_background": "light"
          }
        }
      ]
    },
    {
      "cell_type": "code",
      "metadata": {
        "colab": {
          "base_uri": "https://localhost:8080/"
        },
        "id": "FhBsh8O3iEfA",
        "outputId": "4354b6fc-c71c-4a64-cc38-21cd6c8ff910"
      },
      "source": [
        "# count of male vs. female patients\n",
        "wids_train_df.gender.value_counts(dropna=False)"
      ],
      "execution_count": null,
      "outputs": [
        {
          "output_type": "execute_result",
          "data": {
            "text/plain": [
              "M      70518\n",
              "F      59573\n",
              "NaN       66\n",
              "Name: gender, dtype: int64"
            ]
          },
          "metadata": {
            "tags": []
          },
          "execution_count": 18
        }
      ]
    },
    {
      "cell_type": "code",
      "metadata": {
        "colab": {
          "base_uri": "https://localhost:8080/"
        },
        "id": "vKvey8zBiJm1",
        "outputId": "e8f29ba8-c77d-4935-f322-669371d31d0f"
      },
      "source": [
        "# count of male vs. female for patients with diabetes\n",
        "wids_train_df[wids_train_df.diabetes_mellitus==1].gender.value_counts(dropna=False)"
      ],
      "execution_count": null,
      "outputs": [
        {
          "output_type": "execute_result",
          "data": {
            "text/plain": [
              "M      15420\n",
              "F      12726\n",
              "NaN        5\n",
              "Name: gender, dtype: int64"
            ]
          },
          "metadata": {
            "tags": []
          },
          "execution_count": 19
        }
      ]
    },
    {
      "cell_type": "code",
      "metadata": {
        "colab": {
          "base_uri": "https://localhost:8080/"
        },
        "id": "ztdQ2CF0iUtS",
        "outputId": "8c50f111-143c-4d56-f304-df3ea966ffcd"
      },
      "source": [
        "# percentage of males with diabetes\n",
        "15420/70518*100"
      ],
      "execution_count": null,
      "outputs": [
        {
          "output_type": "execute_result",
          "data": {
            "text/plain": [
              "21.866757423636518"
            ]
          },
          "metadata": {
            "tags": []
          },
          "execution_count": 20
        }
      ]
    },
    {
      "cell_type": "code",
      "metadata": {
        "colab": {
          "base_uri": "https://localhost:8080/"
        },
        "id": "_erkudb5iZ8X",
        "outputId": "f0b704c9-8f9a-4619-bb3b-93d029b3efcc"
      },
      "source": [
        "# percentage of females with diabetes\n",
        "12726/59573*100"
      ],
      "execution_count": null,
      "outputs": [
        {
          "output_type": "execute_result",
          "data": {
            "text/plain": [
              "21.362026421365385"
            ]
          },
          "metadata": {
            "tags": []
          },
          "execution_count": 21
        }
      ]
    },
    {
      "cell_type": "code",
      "metadata": {
        "colab": {
          "base_uri": "https://localhost:8080/",
          "height": 242
        },
        "id": "PZc9XxpEhw9R",
        "outputId": "e20ec8fa-e10e-49b7-f383-c5ce332e1121"
      },
      "source": [
        "plt.figure(figsize=(8,3))\n",
        "sns.countplot(x=\"gender\", data=wids_train_df, hue=\"diabetes_mellitus\")"
      ],
      "execution_count": null,
      "outputs": [
        {
          "output_type": "execute_result",
          "data": {
            "text/plain": [
              "<Figure size 576x216 with 0 Axes>"
            ]
          },
          "metadata": {
            "tags": []
          },
          "execution_count": 22
        },
        {
          "output_type": "execute_result",
          "data": {
            "text/plain": [
              "<matplotlib.axes._subplots.AxesSubplot at 0x7fb8f659fb10>"
            ]
          },
          "metadata": {
            "tags": []
          },
          "execution_count": 22
        },
        {
          "output_type": "display_data",
          "data": {
            "image/png": "[encoded data removed]",
            "text/plain": [
              "<Figure size 576x216 with 1 Axes>"
            ]
          },
          "metadata": {
            "tags": [],
            "needs_background": "light"
          }
        }
      ]
    },
    {
      "cell_type": "code",
      "metadata": {
        "colab": {
          "base_uri": "https://localhost:8080/"
        },
        "id": "rW1HhTHAipqD",
        "outputId": "12244050-61d6-4953-9c9c-009e48941f9e"
      },
      "source": [
        "# stats for height (unit is cm)\n",
        "wids_train_df.height.describe()"
      ],
      "execution_count": null,
      "outputs": [
        {
          "output_type": "execute_result",
          "data": {
            "text/plain": [
              "count    128080.000000\n",
              "mean        169.607219\n",
              "std          10.833085\n",
              "min         137.200000\n",
              "25%         162.500000\n",
              "50%         170.100000\n",
              "75%         177.800000\n",
              "max         195.590000\n",
              "Name: height, dtype: float64"
            ]
          },
          "metadata": {
            "tags": []
          },
          "execution_count": 23
        }
      ]
    },
    {
      "cell_type": "code",
      "metadata": {
        "colab": {
          "base_uri": "https://localhost:8080/",
          "height": 241
        },
        "id": "IfVhGs_LhkrI",
        "outputId": "02985dbd-3456-4a20-98cd-dff34c7d6f60"
      },
      "source": [
        "plot_var_counts(wids_train_df, 'height')\n"
      ],
      "execution_count": null,
      "outputs": [
        {
          "output_type": "display_data",
          "data": {
            "image/png": "[encoded data removed]",
            "text/plain": [
              "<Figure size 576x216 with 1 Axes>"
            ]
          },
          "metadata": {
            "tags": [],
            "needs_background": "light"
          }
        }
      ]
    },
    {
      "cell_type": "code",
      "metadata": {
        "colab": {
          "base_uri": "https://localhost:8080/",
          "height": 275
        },
        "id": "7ZGAbUW4jTnt",
        "outputId": "aad2d7f8-484c-4e5c-f166-63a692a1a997"
      },
      "source": [
        "# plotting height vs gender - men tend to be taller\n",
        "plt.figure(figsize=(8,3))\n",
        "\n",
        "# create each plot\n",
        "sns.distplot(wids_train_df[wids_train_df.gender=='M']['height'], kde=False, label=\"Men\")\n",
        "sns.distplot(wids_train_df[wids_train_df.gender=='F']['height'], kde=False, label=\"Women\")\n",
        "\n",
        "# plot formatting\n",
        "plt.legend()\n",
        "plot_title = 'Distribution of Height for Male vs. Female'\n",
        "plt.title(plot_title)\n",
        "plt.ylabel('Count')\n"
      ],
      "execution_count": null,
      "outputs": [
        {
          "output_type": "execute_result",
          "data": {
            "text/plain": [
              "<Figure size 576x216 with 0 Axes>"
            ]
          },
          "metadata": {
            "tags": []
          },
          "execution_count": 25
        },
        {
          "output_type": "execute_result",
          "data": {
            "text/plain": [
              "<matplotlib.axes._subplots.AxesSubplot at 0x7fb8f62b6c50>"
            ]
          },
          "metadata": {
            "tags": []
          },
          "execution_count": 25
        },
        {
          "output_type": "execute_result",
          "data": {
            "text/plain": [
              "<matplotlib.axes._subplots.AxesSubplot at 0x7fb8f62b6c50>"
            ]
          },
          "metadata": {
            "tags": []
          },
          "execution_count": 25
        },
        {
          "output_type": "execute_result",
          "data": {
            "text/plain": [
              "<matplotlib.legend.Legend at 0x7fb8f6085790>"
            ]
          },
          "metadata": {
            "tags": []
          },
          "execution_count": 25
        },
        {
          "output_type": "execute_result",
          "data": {
            "text/plain": [
              "Text(0.5, 1.0, 'Distribution of Height for Male vs. Female')"
            ]
          },
          "metadata": {
            "tags": []
          },
          "execution_count": 25
        },
        {
          "output_type": "execute_result",
          "data": {
            "text/plain": [
              "Text(0, 0.5, 'Count')"
            ]
          },
          "metadata": {
            "tags": []
          },
          "execution_count": 25
        },
        {
          "output_type": "display_data",
          "data": {
            "image/png": "[encoded data removed]",
            "text/plain": [
              "<Figure size 576x216 with 1 Axes>"
            ]
          },
          "metadata": {
            "tags": [],
            "needs_background": "light"
          }
        }
      ]
    },
    {
      "cell_type": "code",
      "metadata": {
        "colab": {
          "base_uri": "https://localhost:8080/"
        },
        "id": "kfSVPWlQpYbN",
        "outputId": "56eaab4f-23f0-49aa-dec6-139c08edfbed"
      },
      "source": [
        "# readmission status is blank\n",
        "wids_train_df.readmission_status.value_counts()"
      ],
      "execution_count": null,
      "outputs": [
        {
          "output_type": "execute_result",
          "data": {
            "text/plain": [
              "0    130157\n",
              "Name: readmission_status, dtype: int64"
            ]
          },
          "metadata": {
            "tags": []
          },
          "execution_count": 26
        }
      ]
    },
    {
      "cell_type": "code",
      "metadata": {
        "colab": {
          "base_uri": "https://localhost:8080/"
        },
        "id": "2659XoQPpio9",
        "outputId": "c198676a-8c64-4c05-b439-7ed60a0ad9fa"
      },
      "source": [
        "# count of arf_apache - whether the patient had acute renal failure \n",
        "# during the first 24 hours of their unit stay, defined as a 24 hour \n",
        "# urine output <410ml, creatinine >=133 micromol/L and no chronic dialysis\n",
        "wids_train_df.arf_apache.value_counts()"
      ],
      "execution_count": null,
      "outputs": [
        {
          "output_type": "execute_result",
          "data": {
            "text/plain": [
              "0    126513\n",
              "1      3644\n",
              "Name: arf_apache, dtype: int64"
            ]
          },
          "metadata": {
            "tags": []
          },
          "execution_count": 27
        }
      ]
    },
    {
      "cell_type": "code",
      "metadata": {
        "id": "pYR6Igz21942"
      },
      "source": [
        "cols_for_corr = ['gcs_eyes_apache', 'gcs_motor_apache', 'gcs_unable_apache', \n",
        "                'gcs_verbal_apache', 'hepatic_failure', 'immunosuppression', \n",
        "                'intubated_apache', 'paco2_apache', 'paco2_for_ph_apache', \n",
        "                'ph_apache', 'age', 'apache_3j_diagnosis', 'arf_apache', 'bmi', \n",
        "                'cirrhosis', 'gender', 'height', 'icu_type', \n",
        "                'urineoutput_apache', 'weight', 'pre_icu_los_days', 'ethnicity',\n",
        "                'elective_surgery', 'icu_admit_source', 'icu_stay_type', \n",
        "                'diabetes_mellitus']"
      ],
      "execution_count": null,
      "outputs": []
    },
    {
      "cell_type": "code",
      "metadata": {
        "colab": {
          "base_uri": "https://localhost:8080/",
          "height": 602
        },
        "id": "YPxi4xMy2hOJ",
        "outputId": "7d6f2227-fa5e-4486-a2db-8f35147b69e2"
      },
      "source": [
        "# calculate correlations\n",
        "diabetes_correlations = wids_train_df[cols_for_corr].corr()\n",
        "\n",
        "# plot correlations\n",
        "plt.figure(figsize=(12,8))\n",
        "sns.heatmap(diabetes_correlations, xticklabels=diabetes_correlations.columns, \n",
        "            yticklabels=diabetes_correlations.columns, cmap=\"YlGnBu\")"
      ],
      "execution_count": null,
      "outputs": [
        {
          "output_type": "execute_result",
          "data": {
            "text/plain": [
              "<Figure size 864x576 with 0 Axes>"
            ]
          },
          "metadata": {
            "tags": []
          },
          "execution_count": 29
        },
        {
          "output_type": "execute_result",
          "data": {
            "text/plain": [
              "<matplotlib.axes._subplots.AxesSubplot at 0x7fb8f5f17910>"
            ]
          },
          "metadata": {
            "tags": []
          },
          "execution_count": 29
        },
        {
          "output_type": "display_data",
          "data": {
            "image/png": "[encoded data removed]",
            "text/plain": [
              "<Figure size 864x576 with 2 Axes>"
            ]
          },
          "metadata": {
            "tags": [],
            "needs_background": "light"
          }
        }
      ]
    },
    {
      "cell_type": "code",
      "metadata": {
        "colab": {
          "base_uri": "https://localhost:8080/"
        },
        "id": "sPsTDrZ_32t8",
        "outputId": "7f302bff-83f8-41ad-a333-24f96a1ddd71"
      },
      "source": [
        "diabetes_correlations['diabetes_mellitus'].sort_values()"
      ],
      "execution_count": null,
      "outputs": [
        {
          "output_type": "execute_result",
          "data": {
            "text/plain": [
              "ph_apache             -0.020751\n",
              "gcs_unable_apache     -0.012756\n",
              "apache_3j_diagnosis   -0.009536\n",
              "elective_surgery      -0.004910\n",
              "height                -0.004302\n",
              "immunosuppression     -0.003022\n",
              "intubated_apache      -0.000318\n",
              "paco2_apache           0.007982\n",
              "paco2_for_ph_apache    0.007982\n",
              "hepatic_failure        0.009535\n",
              "urineoutput_apache     0.014848\n",
              "cirrhosis              0.015179\n",
              "gcs_verbal_apache      0.020166\n",
              "pre_icu_los_days       0.022141\n",
              "gcs_motor_apache       0.023133\n",
              "gcs_eyes_apache        0.023841\n",
              "age                    0.081019\n",
              "arf_apache             0.108469\n",
              "weight                 0.155517\n",
              "bmi                    0.169043\n",
              "diabetes_mellitus      1.000000\n",
              "Name: diabetes_mellitus, dtype: float64"
            ]
          },
          "metadata": {
            "tags": []
          },
          "execution_count": 30
        }
      ]
    },
    {
      "cell_type": "markdown",
      "metadata": {
        "id": "BomMpv54W3Na"
      },
      "source": [
        "## ⚙️ Feature Engineering\n",
        "\n"
      ]
    },
    {
      "cell_type": "markdown",
      "metadata": {
        "id": "PYDJvLxzf4d8"
      },
      "source": [
        "### Fix Data Types"
      ]
    },
    {
      "cell_type": "code",
      "metadata": {
        "id": "_L5y-Iy5fp8j"
      },
      "source": [
        "def fix_data_types(cat_cols, bin_cols, num_cols, df):\r\n",
        "  df.loc[:,cat_cols] = df.loc[:,cat_cols].astype('category')\r\n",
        "  df.loc[:,bin_cols] = df.loc[:,bin_cols].astype(bool)\r\n",
        "  # print(df[num_cols].dtypes.nunique())\r\n",
        "  return df"
      ],
      "execution_count": null,
      "outputs": []
    },
    {
      "cell_type": "markdown",
      "metadata": {
        "id": "v4redP-5986o"
      },
      "source": [
        "### Missing Values"
      ]
    },
    {
      "cell_type": "markdown",
      "metadata": {
        "id": "IlXimHdyZzBn"
      },
      "source": [
        "Below we fix data types and deal with missing values, removing the variables with more than 90% missing cells, and imputing the remaining quantitative variables. The missing values are imputed when the model is trained. "
      ]
    },
    {
      "cell_type": "code",
      "metadata": {
        "id": "v_orUbwAc3nc"
      },
      "source": [
        "def remove_percent_missing(df, pct=0.99):\n",
        "  for i in df.columns:\n",
        "    percent_missing = df[[i]].isnull().sum()/df.shape[0]\n",
        "    if percent_missing[0] > pct:\n",
        "      df.drop(columns = [i], inplace=True)\n",
        "      # print(\"dropped\",i)\n",
        "  return df"
      ],
      "execution_count": null,
      "outputs": []
    },
    {
      "cell_type": "markdown",
      "metadata": {
        "id": "ztc3xZDQbeew"
      },
      "source": [
        "### Calculated BMI"
      ]
    },
    {
      "cell_type": "markdown",
      "metadata": {
        "id": "ibhaeK2PTp16"
      },
      "source": [
        "Due to the discrepancies between the values of the BMI variable and the BMI values we calculated using height and weight data, we chose to add the calculated BMI as a variable, as well as the difference between the two so that it may capture a patient's body changes in the cases when the given BMI was taken a long time ago. "
      ]
    },
    {
      "cell_type": "code",
      "metadata": {
        "id": "wM0epSFHTnqa"
      },
      "source": [
        "def add_bmi(df):\r\n",
        "  # add calculated BMI variable to dataframe\r\n",
        "  df[\"calculated_bmi\"] = df['weight']/(df[\"height\"]/100)**2\r\n",
        "\r\n",
        "  # add difference of BMI and calculated BMI as variable\r\n",
        "  df[\"bmi_difference\"] = df[\"bmi\"] - df[\"calculated_bmi\"]\r\n",
        "\r\n",
        "  # add additional columns with nonlinear transformations of bmi\r\n",
        "  #df[\"bmi_squared\"] = df[\"bmi\"]**2 NVM BAD\r\n",
        "\r\n",
        "  #df[\"bmi_log\"] = np.log(df[\"bmi\"]) NVM BAD\r\n",
        "\r\n",
        "  return df"
      ],
      "execution_count": null,
      "outputs": []
    },
    {
      "cell_type": "markdown",
      "metadata": {
        "id": "i0exZPzAbom4"
      },
      "source": [
        "### BMI by Ethnicity and Gender"
      ]
    },
    {
      "cell_type": "markdown",
      "metadata": {
        "id": "GiI58p0eUw-V"
      },
      "source": [
        "After speaking to medical professionals and researching the relationship between BMI and diabetes, we found that much of the bias in machine learning models come from using the standard white male BMI as a feature. Below, we added BMI values for overweight and obese diabetic individuals categorized by the ethnicities and genders given in the training data.\n",
        "\n",
        "The BMI values were taken from the [Supplementary Data](https://care.diabetesjournals.org/content/diacare/suppl/2019/09/03/dc19-0532.DC1/DC190532SupplementaryData.pdf) of the [journal](https://care.diabetesjournals.org/content/42/12/2211) *Racial/Ethnic Disparities in the Prevalence of Diabetes and Prediabetes by BMI: Patient Outcomes Research To Advance Learning (PORTAL) Multisite Cohort of Adults in the U.S.* by Yeyi Zhu, Margo A. Sidell, David Arterburn, Matthew F. Daley, Jay Desai, Stephanie L. Fitzpatrick, Michael A. Horberg, Corinna Koebnick, Emily McCormick, Caryn Oshiro, Deborah R. Young, and Assiamira Ferrara."
      ]
    },
    {
      "cell_type": "code",
      "metadata": {
        "id": "jws7zmt-XZ2o"
      },
      "source": [
        "def gender_ethnicity_overweight(df):\r\n",
        "  \"\"\"\r\n",
        "  Calculating whether a patient is considered overweight based on their BMI,  \r\n",
        "  gender and ethnicity.\r\n",
        "  \"\"\"\r\n",
        "  if df['gender'] == 'F':\r\n",
        "    if df['ethnicity'] == 'Caucasian':\r\n",
        "      return df['calculated_bmi'] >= 7.8 and df['calculated_bmi'] < 14.1\r\n",
        "    elif df['ethnicity'] == 'African American':\r\n",
        "      return df['calculated_bmi'] >= 15.9 and df['calculated_bmi'] < 21.2\r\n",
        "    elif df['ethnicity'] == 'Hispanic':\r\n",
        "      return df['calculated_bmi'] >= 16.6 and df['calculated_bmi'] < 23.4\r\n",
        "    elif df['ethnicity'] == 'Asian':\r\n",
        "      return df['calculated_bmi'] >= 16.4 and df['calculated_bmi'] < 24.9\r\n",
        "    elif df['ethnicity'] == 'Native American':\r\n",
        "      return df['calculated_bmi'] >= 14.1 and df['calculated_bmi'] < 21.4\r\n",
        "    else:\r\n",
        "      return df['calculated_bmi'] >= 11.8 and df['calculated_bmi'] < 18.4\r\n",
        "  \r\n",
        "  elif df['gender'] == 'M':\r\n",
        "    if df['ethnicity'] == 'Caucasian':\r\n",
        "      return df['calculated_bmi'] >= 10.9 and df['calculated_bmi'] < 18.6\r\n",
        "    elif df['ethnicity'] == 'African American':\r\n",
        "      return df['calculated_bmi'] >= 20.0 and df['calculated_bmi'] < 27.1\r\n",
        "    elif df['ethnicity'] == 'Hispanic':\r\n",
        "      return df['calculated_bmi'] >= 21.2 and df['calculated_bmi'] < 27.9\r\n",
        "    elif df['ethnicity'] == 'Asian':\r\n",
        "      return df['calculated_bmi'] >= 20.5 and df['calculated_bmi'] < 28.0\r\n",
        "    elif df['ethnicity'] == 'Native American':\r\n",
        "      return df['calculated_bmi'] >= 17.2 and df['calculated_bmi'] < 24.6\r\n",
        "    else:\r\n",
        "      return df['calculated_bmi'] >= 15.0 and df['calculated_bmi'] < 22.6\r\n",
        "  else:\r\n",
        "    return np.nan \r\n",
        "\r\n",
        "def gender_ethnicity_obese(df):\r\n",
        "  \"\"\"\r\n",
        "  Calculating whether a patient is considered obese based on their BMI,  \r\n",
        "  gender and ethnicity.\r\n",
        "  \"\"\"\r\n",
        "  if df['gender'] == 'F':\r\n",
        "    if df['ethnicity'] == 'Caucasian':\r\n",
        "      return df['calculated_bmi'] >= 14.1\r\n",
        "    elif df['ethnicity'] == 'African American':\r\n",
        "      return df['calculated_bmi'] >= 21.2\r\n",
        "    elif df['ethnicity'] == 'Hispanic':\r\n",
        "      return df['calculated_bmi'] >= 23.4\r\n",
        "    elif df['ethnicity'] == 'Asian':\r\n",
        "      return df['calculated_bmi'] >= 24.9\r\n",
        "    elif df['ethnicity'] == 'Native American':\r\n",
        "      return df['calculated_bmi'] >= 21.4\r\n",
        "    else:\r\n",
        "      return df['calculated_bmi'] >= 18.4\r\n",
        "  \r\n",
        "  elif df['gender'] == 'M':\r\n",
        "    if df['ethnicity'] == 'Caucasian':\r\n",
        "      return df['calculated_bmi'] >=  18.6\r\n",
        "    elif df['ethnicity'] == 'African American':\r\n",
        "      return df['calculated_bmi'] >= 27.1\r\n",
        "    elif df['ethnicity'] == 'Hispanic':\r\n",
        "      return df['calculated_bmi'] >= 27.9\r\n",
        "    elif df['ethnicity'] == 'Asian':\r\n",
        "      return df['calculated_bmi'] >= 28.0\r\n",
        "    elif df['ethnicity'] == 'Native American':\r\n",
        "      return df['calculated_bmi'] >=  24.6\r\n",
        "    else:\r\n",
        "      return df['calculated_bmi'] >= 22.6\r\n",
        "  else:\r\n",
        "    return np.nan "
      ],
      "execution_count": null,
      "outputs": []
    },
    {
      "cell_type": "code",
      "metadata": {
        "id": "cCMTCsgXPK7h"
      },
      "source": [
        "def ethnicity_gender_bmi(df):\r\n",
        "  \"\"\"\r\n",
        "  Adding boolean variable: 1 if BMI > x (overweight/obese), \r\n",
        "  0 otherwise. Where x depends on ethnicity and gender.\r\n",
        "  \"\"\"\r\n",
        "    \r\n",
        "  df[\"overweight_by_type\"] = df[['calculated_bmi', 'ethnicity', 'gender']].apply(gender_ethnicity_overweight, axis = 1)\r\n",
        "  df[\"obese_by_type\"] = df[['calculated_bmi', 'ethnicity', 'gender']].apply(gender_ethnicity_obese, axis = 1)\r\n",
        "  return df\r\n"
      ],
      "execution_count": null,
      "outputs": []
    },
    {
      "cell_type": "markdown",
      "metadata": {
        "id": "kt7EQ4JjAY2e"
      },
      "source": [
        "### Drop Columns"
      ]
    },
    {
      "cell_type": "code",
      "metadata": {
        "id": "UDY0H-ga_dCe"
      },
      "source": [
        "def drop_columns(df, test_df=False):\r\n",
        "  uninteresting_features = ['lymphoma',\r\n",
        "                            'ventilated_apache', 'apache_3j_diagnosis', 'map_apache', \r\n",
        "                            'pao2_apache', 'apache_post_operative','aids','temp_apache','leukemia',\r\n",
        "                            'solid_tumor_with_metastasis','hospital_admit_source','icu_id']\r\n",
        "  # remove old BMI to avoid multicollinearity\r\n",
        "  # df.drop(columns=['bmi'], inplace=True)\r\n",
        "\r\n",
        "  # df.drop(uninteresting_features, axis=1, inplace=True)\r\n",
        "  if test_df:\r\n",
        "    # not dropping the encounter ID since it's needed for labeling submission df\r\n",
        "    return df.drop(labels=['readmission_status', 'hospital_id'], axis=1)\r\n",
        "  else:\r\n",
        "    # dropping IDs and empty variable\r\n",
        "    return df.drop(labels=['encounter_id','readmission_status', 'hospital_id'], axis=1)\r\n",
        "  # return df"
      ],
      "execution_count": null,
      "outputs": []
    },
    {
      "cell_type": "markdown",
      "metadata": {
        "id": "m34NyaNfl_Ok"
      },
      "source": [
        "### Separate by Variable Type"
      ]
    },
    {
      "cell_type": "markdown",
      "metadata": {
        "id": "X3YeKX5_l_Ol"
      },
      "source": [
        "Separate the variables into binary, categorical and numerical feature lists and use them to pass the datasets through the pipeline of functions created in the Feature Engineering section. "
      ]
    },
    {
      "cell_type": "code",
      "metadata": {
        "id": "Jz8wnnahf8vs"
      },
      "source": [
        "#Binary columns; \n",
        "bin_cols = ['overweight_by_type', 'obese_by_type',\n",
        "            'hepatic_failure','immunosuppression','intubated_apache',\n",
        "            'arf_apache','cirrhosis','gender','elective_surgery',\n",
        "            'gcs_unable_apache']\n",
        "\n",
        "# uninteresting\n",
        "bin_cols += ['lymphoma','leukemia','ventilated_apache', 'apache_post_operative',\n",
        "             'aids', 'solid_tumor_with_metastasis']"
      ],
      "execution_count": null,
      "outputs": []
    },
    {
      "cell_type": "code",
      "metadata": {
        "id": "2IGLl4UAf8vt"
      },
      "source": [
        "#Categorical columns;\r\n",
        "# can include hostpital ID later\r\n",
        "cat_cols = ['icu_type', 'ethnicity', 'icu_admit_source', 'icu_stay_type', 'apache_2_diagnosis']\r\n",
        "\r\n",
        "cat_cols += ['hospital_admit_source', 'apache_3j_diagnosis']"
      ],
      "execution_count": null,
      "outputs": []
    },
    {
      "cell_type": "code",
      "metadata": {
        "id": "qD8xpml7f8vt"
      },
      "source": [
        "num_cols = list(set(wids_train_df.columns).difference(set(bin_cols)).difference(set(cat_cols)))\n",
        "\n",
        "# other_num_cols = list(set(interesting_features).difference(set(bin_cols)).difference(set(cat_cols)))\n",
        "# other_num_cols += ['calculated_bmi', 'bmi_difference']\n",
        "\n",
        "# uninteresting\n",
        "# other_num_cols += ['map_apache', 'pao2_apache', 'temp_apache', 'icu_id']"
      ],
      "execution_count": null,
      "outputs": []
    },
    {
      "cell_type": "code",
      "metadata": {
        "id": "okK8i-3Jf8vt"
      },
      "source": [
        "#All features;\n",
        "all_features = bin_cols + cat_cols + num_cols"
      ],
      "execution_count": null,
      "outputs": []
    },
    {
      "cell_type": "code",
      "metadata": {
        "id": "hwcadvBnf8vu"
      },
      "source": [
        "# uninteresting columns based on research\n",
        "uninteresting_features = list(set(wids_train_df.columns).difference(set(all_features)))"
      ],
      "execution_count": null,
      "outputs": []
    },
    {
      "cell_type": "code",
      "metadata": {
        "colab": {
          "base_uri": "https://localhost:8080/"
        },
        "id": "Fu9wLj_nEALw",
        "outputId": "35beb0a9-32b8-40b5-8f7b-316c212ee8ab"
      },
      "source": [
        "len(uninteresting_features)"
      ],
      "execution_count": null,
      "outputs": [
        {
          "output_type": "execute_result",
          "data": {
            "text/plain": [
              "0"
            ]
          },
          "metadata": {
            "tags": []
          },
          "execution_count": 42
        }
      ]
    },
    {
      "cell_type": "markdown",
      "metadata": {
        "id": "R42lBbi0c2Zw"
      },
      "source": [
        "### Fix Age as 0"
      ]
    },
    {
      "cell_type": "code",
      "metadata": {
        "id": "KLCK2qTXc3oZ"
      },
      "source": [
        "# filling zeroes with mean\n",
        "wids_train_df.loc[wids_train_df['age']==0,'age'] = wids_train_df['age'].mean()\n",
        "#wids_train_df.loc[wids_train_df['age']==0,'age'] = wids_train_df['age'].median()\n",
        "#wids_train_df.loc[wids_train_df['age']==0,'age'] = wids_train_df['age'].mode()\n"
      ],
      "execution_count": null,
      "outputs": []
    },
    {
      "cell_type": "markdown",
      "metadata": {
        "id": "ZBA_txOYtTSE"
      },
      "source": [
        "### Feature Crossing"
      ]
    },
    {
      "cell_type": "markdown",
      "metadata": {
        "id": "A2mYmLOXtBNV"
      },
      "source": [
        "After speaking to medical professionals, we learned that some variables such as heartrate or bmi are unreliable because it only provides a good indicator for diabetes when combined with other symptoms. To address this issue, we are adding feature crosses below. "
      ]
    },
    {
      "cell_type": "code",
      "metadata": {
        "id": "pzwGlmM0tXjX"
      },
      "source": [
        "def add_crossed_features(df, col_contains1 = 'bmi'):\r\n",
        "  col_names = df.columns.to_list()\r\n",
        "\r\n",
        "  for i in col_names:\r\n",
        "    if col_contains1 in i:\r\n",
        "      col_names.remove(i)\r\n",
        "\r\n",
        "      for j in col_names:\r\n",
        "        if j!= 'diabetes_mellitus':\r\n",
        "          try:\r\n",
        "            df[i + '_cross_' + j] = df[i]*df[j]\r\n",
        "          except:\r\n",
        "            pass\r\n",
        "  \r\n",
        "  return df\r\n"
      ],
      "execution_count": null,
      "outputs": []
    },
    {
      "cell_type": "markdown",
      "metadata": {
        "id": "W4uHZ0Zif8vu"
      },
      "source": [
        "### Pipeline"
      ]
    },
    {
      "cell_type": "code",
      "metadata": {
        "colab": {
          "base_uri": "https://localhost:8080/"
        },
        "id": "VsAU2m9qf8vu",
        "outputId": "92ae0352-bba7-4ae6-8716-3e13eae35e4e"
      },
      "source": [
        "train_df = drop_columns(remove_percent_missing(add_crossed_features(fix_data_types(cat_cols, \r\n",
        "                                                           bin_cols, num_cols, \r\n",
        "                                                           ethnicity_gender_bmi(add_bmi(wids_train_df)))),0.90))\r\n",
        "\r\n",
        "# create dummy vars based on categorical and binary variables\r\n",
        "train_df = pd.get_dummies(data=train_df, columns=cat_cols+bin_cols, drop_first=True)\r\n",
        "train_df.shape"
      ],
      "execution_count": null,
      "outputs": [
        {
          "output_type": "execute_result",
          "data": {
            "text/plain": [
              "(130157, 978)"
            ]
          },
          "metadata": {
            "tags": []
          },
          "execution_count": 45
        }
      ]
    },
    {
      "cell_type": "code",
      "metadata": {
        "id": "5FiFX5lRgosy"
      },
      "source": [
        "# hard coding apache 3j diagnosis col missing in training data\n",
        "train_df['apache_3j_diagnosis_1703.06'] = 0"
      ],
      "execution_count": null,
      "outputs": []
    },
    {
      "cell_type": "code",
      "metadata": {
        "colab": {
          "base_uri": "https://localhost:8080/"
        },
        "id": "FpzPyV63grLP",
        "outputId": "1dada580-e038-4ba0-addf-c8ec45f59af4"
      },
      "source": [
        "train_df.shape"
      ],
      "execution_count": null,
      "outputs": [
        {
          "output_type": "execute_result",
          "data": {
            "text/plain": [
              "(130157, 979)"
            ]
          },
          "metadata": {
            "tags": []
          },
          "execution_count": 47
        }
      ]
    },
    {
      "cell_type": "markdown",
      "metadata": {
        "id": "Jtkut-gJi8eF"
      },
      "source": [
        "## 🔥 Modeling"
      ]
    },
    {
      "cell_type": "markdown",
      "metadata": {
        "id": "scTcdfkKjJZ8"
      },
      "source": [
        "### Separate by Variable Type"
      ]
    },
    {
      "cell_type": "markdown",
      "metadata": {
        "id": "kl-ILeSN_hrn"
      },
      "source": [
        "Below, we split the data into a training and test set. We separate the variables into binary, categorical and numerical feature lists and use them to pass the datasets through the pipeline of functions created in the Feature Engineering section. "
      ]
    },
    {
      "cell_type": "code",
      "metadata": {
        "id": "QDqbbigPjOzI"
      },
      "source": [
        "#Split into training and test sets\n",
        "tr, te = train_test_split(train_df, test_size=0.3, random_state=83)\n",
        "target = tr['diabetes_mellitus']\n",
        "tr=tr.drop(columns = ['diabetes_mellitus'])"
      ],
      "execution_count": null,
      "outputs": []
    },
    {
      "cell_type": "code",
      "metadata": {
        "colab": {
          "base_uri": "https://localhost:8080/"
        },
        "id": "u2RFNyhpXp0H",
        "outputId": "34028dba-0560-4da6-d75e-f98f428438a6"
      },
      "source": [
        "tr.shape"
      ],
      "execution_count": null,
      "outputs": [
        {
          "output_type": "execute_result",
          "data": {
            "text/plain": [
              "(91109, 978)"
            ]
          },
          "metadata": {
            "tags": []
          },
          "execution_count": 49
        }
      ]
    },
    {
      "cell_type": "markdown",
      "metadata": {
        "id": "GBJmfkkthdIp"
      },
      "source": [
        "### Training the Model"
      ]
    },
    {
      "cell_type": "code",
      "metadata": {
        "colab": {
          "base_uri": "https://localhost:8080/"
        },
        "id": "4x42EPGbNcNf",
        "outputId": "d082a6ae-2155-4a91-e3b5-53678dbd5839"
      },
      "source": [
        "params = {\n",
        "        'boosting_type': 'gbdt',\n",
        "        'objective': 'binary',\n",
        "        'metric': 'auc',\n",
        "        'learning_rate': 0.004,\n",
        "        'subsample': 1,\n",
        "        'colsample_bytree': 0.2,\n",
        "        'reg_alpha': 3,\n",
        "        'reg_lambda': 1,\n",
        "        'scale_pos_weight': 5,\n",
        "        'n_estimators': 10000,\n",
        "        'verbose': 1,\n",
        "        'max_depth': -1,\n",
        "        'seed':100, \n",
        "        'force_col_wise': True,\n",
        "        \"num_leaves\":36\n",
        "        #'objective': 'binary',\n",
        "        #'boosting': 'gbdt',        \n",
        "        #'learning_rate': 0.01,\n",
        "        #'seed': 100,\n",
        "        #'scale_pos_weight': 0.1,\n",
        "        #'categorical_feature': 'auto'\n",
        "        # 'metric': 'auc',\n",
        "        # 'scale_pos_weight':0.1,\n",
        "        # 'learning_rate': 0.02,\n",
        "        # 'num_boost_round':2000,\n",
        "        # \"min_sum_hessian_in_leaf\":1,\n",
        "        # 'max_depth' : 100,\n",
        "        # \"bagging_freq\": 2,\n",
        "        # \"bagging_fraction\" : 0.4,\n",
        "        # \"feature_fraction\" : 0.05\n",
        "}\n",
        "\n",
        "clf,arr_f1_weighted,arr_f1_macro,arr_f1_positive,prediction_folds,preds_folds,y_folds= oc.cv(tr,target,\n",
        "                                                                                             0.5,10000,shuffle=True,params=params)\n"
      ],
      "execution_count": null,
      "outputs": [
        {
          "output_type": "stream",
          "text": [
            "\r0it [00:00, ?it/s]/usr/local/lib/python3.7/dist-packages/lightgbm/engine.py:118: UserWarning: Found `n_estimators` in params. Will use it instead of argument\n",
            "  warnings.warn(\"Found `{}` in params. Will use it instead of argument\".format(alias))\n",
            "/usr/local/lib/python3.7/dist-packages/lightgbm/basic.py:1205: UserWarning: Using categorical_feature in Dataset.\n",
            "  warnings.warn('Using categorical_feature in Dataset.')\n",
            "5it [1:55:37, 1387.46s/it]"
          ],
          "name": "stderr"
        },
        {
          "output_type": "stream",
          "text": [
            "Method Name       :\u001b[35;1m cv\u001b[0m\n",
            "Current memory usage:\u001b[36m 5.166909MB\u001b[0m\n",
            "Peak                :\u001b[36m 2237.155499MB\u001b[0m\n",
            "Total time taken:  \u001b[36m 6937331.124 ms \u001b[0m\n"
          ],
          "name": "stdout"
        },
        {
          "output_type": "stream",
          "text": [
            "\n"
          ],
          "name": "stderr"
        }
      ]
    },
    {
      "cell_type": "code",
      "metadata": {
        "colab": {
          "base_uri": "https://localhost:8080/"
        },
        "id": "LVmYriWFrDdb",
        "outputId": "7e3ad369-d4a6-40e1-fb7c-d76bce3549d3"
      },
      "source": [
        "print(classification_report(y_folds, prediction_folds))\n"
      ],
      "execution_count": null,
      "outputs": [
        {
          "output_type": "stream",
          "text": [
            "              precision    recall  f1-score   support\n",
            "\n",
            "           0       0.93      0.79      0.86     71340\n",
            "           1       0.51      0.79      0.62     19769\n",
            "\n",
            "    accuracy                           0.79     91109\n",
            "   macro avg       0.72      0.79      0.74     91109\n",
            "weighted avg       0.84      0.79      0.80     91109\n",
            "\n"
          ],
          "name": "stdout"
        }
      ]
    },
    {
      "cell_type": "code",
      "metadata": {
        "colab": {
          "base_uri": "https://localhost:8080/",
          "height": 412
        },
        "id": "5GzOO-HYPiJC",
        "outputId": "e0a1940a-8452-434c-8bb2-31eb33f6640a"
      },
      "source": [
        "oc.roc_curve_plot(y_folds,preds_folds)\n"
      ],
      "execution_count": null,
      "outputs": [
        {
          "output_type": "display_data",
          "data": {
            "image/png": "[encoded data removed]",
            "text/plain": [
              "<Figure size 576x432 with 1 Axes>"
            ]
          },
          "metadata": {
            "tags": []
          }
        }
      ]
    },
    {
      "cell_type": "code",
      "metadata": {
        "colab": {
          "base_uri": "https://localhost:8080/"
        },
        "id": "eVkZeDcU42Nr",
        "outputId": "62a17e7c-6b1b-4f61-ec3f-5c25057947cc"
      },
      "source": [
        "#New:\r\n",
        "roc_auc_score(y_folds,preds_folds)"
      ],
      "execution_count": null,
      "outputs": [
        {
          "output_type": "execute_result",
          "data": {
            "text/plain": [
              "0.8692338137106796"
            ]
          },
          "metadata": {
            "tags": []
          },
          "execution_count": 53
        }
      ]
    },
    {
      "cell_type": "code",
      "metadata": {
        "id": "F3iXbNMLRAIA"
      },
      "source": [
        "#roc_auc_score(y_folds,preds_folds)\r\n",
        "#0.8708353816266694 (old)"
      ],
      "execution_count": null,
      "outputs": []
    },
    {
      "cell_type": "markdown",
      "metadata": {
        "id": "KE3PlV79U2m8"
      },
      "source": [
        "## ➡️ Submission"
      ]
    },
    {
      "cell_type": "markdown",
      "metadata": {
        "id": "ig7No5ieCQvV"
      },
      "source": [
        "Here we read the unlabeled test data and pass it through the same pipeline as the training data to predict diabetes_mellitus as a 1 or a 0. "
      ]
    },
    {
      "cell_type": "code",
      "metadata": {
        "id": "J4ss67KxVeR-"
      },
      "source": [
        "# re-read df\n",
        "wids_test_df = pd.read_csv(filepath+'UnlabeledWiDS2021.csv',index_col=0)\n",
        "\n",
        "\n",
        "#Implement pipeline to test dataframe\n",
        "wids_test_df = drop_columns(remove_percent_missing(fix_data_types(cat_cols, \n",
        "                                                           bin_cols, num_cols, \n",
        "                                                           ethnicity_gender_bmi(add_bmi(wids_test_df))), 0.91), True)\n",
        "\n",
        "wids_test_df = pd.get_dummies(data=wids_test_df, columns=cat_cols+bin_cols, drop_first=True)\n",
        "\n",
        "#wids_test_df = impute_missing_values(wids_train_df, wids_test_df)"
      ],
      "execution_count": null,
      "outputs": []
    },
    {
      "cell_type": "code",
      "metadata": {
        "colab": {
          "base_uri": "https://localhost:8080/"
        },
        "id": "IvZWMB2TeUYc",
        "outputId": "0a967106-3ecf-4fa5-eb72-d79494012809"
      },
      "source": [
        "extra_test_cols = list(set(wids_test_df.columns).difference(set(train_df.columns)))\n",
        "extra_test_cols.remove('encounter_id')\n",
        "extra_test_cols"
      ],
      "execution_count": null,
      "outputs": [
        {
          "output_type": "execute_result",
          "data": {
            "text/plain": [
              "[]"
            ]
          },
          "metadata": {
            "tags": []
          },
          "execution_count": 56
        }
      ]
    },
    {
      "cell_type": "code",
      "metadata": {
        "id": "b5_yEGMMPSNv"
      },
      "source": [
        "missing_cols_test = list(set(train_df.columns).difference(set(wids_test_df.columns)))\n",
        "missing_cols_test.remove('diabetes_mellitus')\n"
      ],
      "execution_count": null,
      "outputs": []
    },
    {
      "cell_type": "code",
      "metadata": {
        "id": "iwhfrZVmQN5P"
      },
      "source": [
        "wids_test_df[missing_cols_test] = 0"
      ],
      "execution_count": null,
      "outputs": []
    },
    {
      "cell_type": "code",
      "metadata": {
        "id": "rGaB18qRe0d4"
      },
      "source": [
        "wids_test_df.drop(extra_test_cols, axis=1, inplace=True)"
      ],
      "execution_count": null,
      "outputs": []
    },
    {
      "cell_type": "code",
      "metadata": {
        "id": "hmYWAtc0TAOP"
      },
      "source": [
        "def predict_for_submission(fileversion,model,te,ids_list,features):\n",
        "    filename = \"Submissions/GirlsGoneWireless_Submission_v\" + str(fileversion) + \".csv\"\n",
        "    if target in te.columns:\n",
        "        te.drop([target],axis=1,inplace=True)\n",
        "    te_preds=model.predict(te[features])\n",
        "    print(te_preds[1:2])\n",
        "\n",
        "    submit=pd.DataFrame()\n",
        "    submit['encounter_id'] = ids_list\n",
        "    submit['diabetes_mellitus'] = te_preds\n",
        "    submit.to_csv(filepath+filename,index=False)\n",
        "    return submit"
      ],
      "execution_count": null,
      "outputs": []
    },
    {
      "cell_type": "code",
      "metadata": {
        "id": "M7Jpowsg1jvR"
      },
      "source": [
        "# update version number here\n",
        "version_num=53"
      ],
      "execution_count": null,
      "outputs": []
    },
    {
      "cell_type": "code",
      "metadata": {
        "colab": {
          "base_uri": "https://localhost:8080/"
        },
        "id": "6eAy5AVCXqNj",
        "outputId": "69481380-7083-435a-b194-448b43328493"
      },
      "source": [
        "target=\"diabetes_mellitus\"\n",
        "submit=predict_for_submission(version_num,clf,\n",
        "                              wids_test_df[tr.columns.tolist()],\n",
        "                              wids_test_df['encounter_id'].tolist(), tr.columns.tolist())"
      ],
      "execution_count": null,
      "outputs": [
        {
          "output_type": "stream",
          "text": [
            "[0.06869624]\n"
          ],
          "name": "stdout"
        }
      ]
    },
    {
      "cell_type": "markdown",
      "metadata": {
        "id": "h90jCwSWurC9"
      },
      "source": [
        "# Pending"
      ]
    },
    {
      "cell_type": "markdown",
      "metadata": {
        "id": "zOfhUmrVYUXC"
      },
      "source": [
        "\r\n",
        "\r\n",
        "### New todos:\r\n",
        "- xgboost\r\n",
        "- Bins:\r\n",
        "  - age\r\n",
        "  - hospital id (maybe)\r\n",
        "- Run with 90% for missing data ✅\r\n",
        "- higher percentages - from 90 to 92, 94....`[Ana working on this on v6]`\r\n",
        "\r\n"
      ]
    },
    {
      "cell_type": "code",
      "metadata": {
        "id": "DMbPWmksy7Qd"
      },
      "source": [
        ""
      ],
      "execution_count": null,
      "outputs": []
    }
  ]
}